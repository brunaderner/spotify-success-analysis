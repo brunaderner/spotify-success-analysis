{
  "nbformat": 4,
  "nbformat_minor": 0,
  "metadata": {
    "colab": {
      "provenance": [],
      "collapsed_sections": [
        "x7tiWpiAndy1",
        "Qdsl5tOinOCz",
        "jFzcttkhAMRt",
        "Va76O6FwGeIS",
        "VSQ3vNr0GufH",
        "sRvuUGrXXF2o",
        "Tkgc59NFqSXY",
        "cMHPP8E6rafN",
        "o9pucT-VsZ4P",
        "1rbpShIItC01",
        "-lmkihD6tRJU",
        "DEcf6152tmQA",
        "0AWQa0-9a3c1",
        "b0Bw3jX0i1IG",
        "_xjiPAX1ar8W",
        "i2p4M-ZZoP6E",
        "2ymNZ91gvE6O",
        "bgzKy9Fw-T9z"
      ]
    },
    "kernelspec": {
      "name": "python3",
      "display_name": "Python 3"
    },
    "language_info": {
      "name": "python"
    }
  },
  "cells": [
    {
      "cell_type": "markdown",
      "source": [
        "# **Importando Dados**"
      ],
      "metadata": {
        "id": "x7tiWpiAndy1"
      }
    },
    {
      "cell_type": "code",
      "source": [
        "from google.colab import files\n",
        "import pandas as pd\n",
        "\n",
        "# Fazer upload do arquivo\n",
        "uploaded = files.upload()\n",
        "\n",
        "# Ler o CSV\n",
        "data = pd.read_csv('track_spotify.csv')\n",
        "data.head()\n"
      ],
      "metadata": {
        "colab": {
          "base_uri": "https://localhost:8080/",
          "height": 467
        },
        "id": "RFcp_nAlnQ3v",
        "outputId": "f3350826-08e7-4b00-e659-e7251d31ccfc"
      },
      "execution_count": null,
      "outputs": [
        {
          "output_type": "display_data",
          "data": {
            "text/plain": [
              "<IPython.core.display.HTML object>"
            ],
            "text/html": [
              "\n",
              "     <input type=\"file\" id=\"files-0ccc6be7-81ed-4174-bbfd-3815c329a795\" name=\"files[]\" multiple disabled\n",
              "        style=\"border:none\" />\n",
              "     <output id=\"result-0ccc6be7-81ed-4174-bbfd-3815c329a795\">\n",
              "      Upload widget is only available when the cell has been executed in the\n",
              "      current browser session. Please rerun this cell to enable.\n",
              "      </output>\n",
              "      <script>// Copyright 2017 Google LLC\n",
              "//\n",
              "// Licensed under the Apache License, Version 2.0 (the \"License\");\n",
              "// you may not use this file except in compliance with the License.\n",
              "// You may obtain a copy of the License at\n",
              "//\n",
              "//      http://www.apache.org/licenses/LICENSE-2.0\n",
              "//\n",
              "// Unless required by applicable law or agreed to in writing, software\n",
              "// distributed under the License is distributed on an \"AS IS\" BASIS,\n",
              "// WITHOUT WARRANTIES OR CONDITIONS OF ANY KIND, either express or implied.\n",
              "// See the License for the specific language governing permissions and\n",
              "// limitations under the License.\n",
              "\n",
              "/**\n",
              " * @fileoverview Helpers for google.colab Python module.\n",
              " */\n",
              "(function(scope) {\n",
              "function span(text, styleAttributes = {}) {\n",
              "  const element = document.createElement('span');\n",
              "  element.textContent = text;\n",
              "  for (const key of Object.keys(styleAttributes)) {\n",
              "    element.style[key] = styleAttributes[key];\n",
              "  }\n",
              "  return element;\n",
              "}\n",
              "\n",
              "// Max number of bytes which will be uploaded at a time.\n",
              "const MAX_PAYLOAD_SIZE = 100 * 1024;\n",
              "\n",
              "function _uploadFiles(inputId, outputId) {\n",
              "  const steps = uploadFilesStep(inputId, outputId);\n",
              "  const outputElement = document.getElementById(outputId);\n",
              "  // Cache steps on the outputElement to make it available for the next call\n",
              "  // to uploadFilesContinue from Python.\n",
              "  outputElement.steps = steps;\n",
              "\n",
              "  return _uploadFilesContinue(outputId);\n",
              "}\n",
              "\n",
              "// This is roughly an async generator (not supported in the browser yet),\n",
              "// where there are multiple asynchronous steps and the Python side is going\n",
              "// to poll for completion of each step.\n",
              "// This uses a Promise to block the python side on completion of each step,\n",
              "// then passes the result of the previous step as the input to the next step.\n",
              "function _uploadFilesContinue(outputId) {\n",
              "  const outputElement = document.getElementById(outputId);\n",
              "  const steps = outputElement.steps;\n",
              "\n",
              "  const next = steps.next(outputElement.lastPromiseValue);\n",
              "  return Promise.resolve(next.value.promise).then((value) => {\n",
              "    // Cache the last promise value to make it available to the next\n",
              "    // step of the generator.\n",
              "    outputElement.lastPromiseValue = value;\n",
              "    return next.value.response;\n",
              "  });\n",
              "}\n",
              "\n",
              "/**\n",
              " * Generator function which is called between each async step of the upload\n",
              " * process.\n",
              " * @param {string} inputId Element ID of the input file picker element.\n",
              " * @param {string} outputId Element ID of the output display.\n",
              " * @return {!Iterable<!Object>} Iterable of next steps.\n",
              " */\n",
              "function* uploadFilesStep(inputId, outputId) {\n",
              "  const inputElement = document.getElementById(inputId);\n",
              "  inputElement.disabled = false;\n",
              "\n",
              "  const outputElement = document.getElementById(outputId);\n",
              "  outputElement.innerHTML = '';\n",
              "\n",
              "  const pickedPromise = new Promise((resolve) => {\n",
              "    inputElement.addEventListener('change', (e) => {\n",
              "      resolve(e.target.files);\n",
              "    });\n",
              "  });\n",
              "\n",
              "  const cancel = document.createElement('button');\n",
              "  inputElement.parentElement.appendChild(cancel);\n",
              "  cancel.textContent = 'Cancel upload';\n",
              "  const cancelPromise = new Promise((resolve) => {\n",
              "    cancel.onclick = () => {\n",
              "      resolve(null);\n",
              "    };\n",
              "  });\n",
              "\n",
              "  // Wait for the user to pick the files.\n",
              "  const files = yield {\n",
              "    promise: Promise.race([pickedPromise, cancelPromise]),\n",
              "    response: {\n",
              "      action: 'starting',\n",
              "    }\n",
              "  };\n",
              "\n",
              "  cancel.remove();\n",
              "\n",
              "  // Disable the input element since further picks are not allowed.\n",
              "  inputElement.disabled = true;\n",
              "\n",
              "  if (!files) {\n",
              "    return {\n",
              "      response: {\n",
              "        action: 'complete',\n",
              "      }\n",
              "    };\n",
              "  }\n",
              "\n",
              "  for (const file of files) {\n",
              "    const li = document.createElement('li');\n",
              "    li.append(span(file.name, {fontWeight: 'bold'}));\n",
              "    li.append(span(\n",
              "        `(${file.type || 'n/a'}) - ${file.size} bytes, ` +\n",
              "        `last modified: ${\n",
              "            file.lastModifiedDate ? file.lastModifiedDate.toLocaleDateString() :\n",
              "                                    'n/a'} - `));\n",
              "    const percent = span('0% done');\n",
              "    li.appendChild(percent);\n",
              "\n",
              "    outputElement.appendChild(li);\n",
              "\n",
              "    const fileDataPromise = new Promise((resolve) => {\n",
              "      const reader = new FileReader();\n",
              "      reader.onload = (e) => {\n",
              "        resolve(e.target.result);\n",
              "      };\n",
              "      reader.readAsArrayBuffer(file);\n",
              "    });\n",
              "    // Wait for the data to be ready.\n",
              "    let fileData = yield {\n",
              "      promise: fileDataPromise,\n",
              "      response: {\n",
              "        action: 'continue',\n",
              "      }\n",
              "    };\n",
              "\n",
              "    // Use a chunked sending to avoid message size limits. See b/62115660.\n",
              "    let position = 0;\n",
              "    do {\n",
              "      const length = Math.min(fileData.byteLength - position, MAX_PAYLOAD_SIZE);\n",
              "      const chunk = new Uint8Array(fileData, position, length);\n",
              "      position += length;\n",
              "\n",
              "      const base64 = btoa(String.fromCharCode.apply(null, chunk));\n",
              "      yield {\n",
              "        response: {\n",
              "          action: 'append',\n",
              "          file: file.name,\n",
              "          data: base64,\n",
              "        },\n",
              "      };\n",
              "\n",
              "      let percentDone = fileData.byteLength === 0 ?\n",
              "          100 :\n",
              "          Math.round((position / fileData.byteLength) * 100);\n",
              "      percent.textContent = `${percentDone}% done`;\n",
              "\n",
              "    } while (position < fileData.byteLength);\n",
              "  }\n",
              "\n",
              "  // All done.\n",
              "  yield {\n",
              "    response: {\n",
              "      action: 'complete',\n",
              "    }\n",
              "  };\n",
              "}\n",
              "\n",
              "scope.google = scope.google || {};\n",
              "scope.google.colab = scope.google.colab || {};\n",
              "scope.google.colab._files = {\n",
              "  _uploadFiles,\n",
              "  _uploadFilesContinue,\n",
              "};\n",
              "})(self);\n",
              "</script> "
            ]
          },
          "metadata": {}
        },
        {
          "output_type": "stream",
          "name": "stdout",
          "text": [
            "Saving track_spotify.csv to track_spotify.csv\n"
          ]
        },
        {
          "output_type": "execute_result",
          "data": {
            "text/plain": [
              "  track_id                                         track_name     artist_name  \\\n",
              "0  1404326  What Was I Made For? [From The Motion Picture ...   Billie Eilish   \n",
              "1  4703367  I'm Tired - From \"Euphoria\" An Original HBO Se...        Labrinth   \n",
              "2  4611820                                            Special             SZA   \n",
              "3  4671002                                         Boyfriends    Harry Styles   \n",
              "4  7556948                                              Crown  Kendrick Lamar   \n",
              "\n",
              "   artist_count  in_spotify_playlists  in_spotify_charts    streams  \\\n",
              "0             1                   873                104   30546883   \n",
              "1             1                  1888                  0  121913181   \n",
              "2             1                   906                  0   88092256   \n",
              "3             1                  1517                  0  137070925   \n",
              "4             1                  1493                  0   42485571   \n",
              "\n",
              "  data_lancamento  total_playlists  in_apple_playlists  ...  \\\n",
              "0      2023-07-13             1048                  80  ...   \n",
              "1      2022-02-04             1972                  26  ...   \n",
              "2      2022-12-09              915                   6  ...   \n",
              "3      2022-05-20             1573                  26  ...   \n",
              "4      2022-05-13             1505                   2  ...   \n",
              "\n",
              "   quartil_acousticness  classificacao_acousticness  quartil_instrumentalness  \\\n",
              "0                     4                        alto                         1   \n",
              "1                     3                       medio                         1   \n",
              "2                     4                        alto                         1   \n",
              "3                     4                        alto                         1   \n",
              "4                     4                        alto                         1   \n",
              "\n",
              "   classificacao_instrumentalness quartil_liveness classificacao_liveness  \\\n",
              "0                           baixo                2                  medio   \n",
              "1                           baixo                4                   alto   \n",
              "2                           baixo                2                  medio   \n",
              "3                           baixo                2                  medio   \n",
              "4                           baixo                2                  medio   \n",
              "\n",
              "   quartil_speechiness  quartil_total_playlists  classificacao_speechiness  \\\n",
              "0                    1                        2                      baixo   \n",
              "1                    1                        2                      baixo   \n",
              "2                    2                        1                      medio   \n",
              "3                    1                        2                      baixo   \n",
              "4                    1                        2                      baixo   \n",
              "\n",
              "   classificacao_total_playlists  \n",
              "0                          medio  \n",
              "1                          medio  \n",
              "2                          baixo  \n",
              "3                          medio  \n",
              "4                          medio  \n",
              "\n",
              "[5 rows x 43 columns]"
            ],
            "text/html": [
              "\n",
              "  <div id=\"df-6772b29d-7240-4eb2-869b-df17483d2461\" class=\"colab-df-container\">\n",
              "    <div>\n",
              "<style scoped>\n",
              "    .dataframe tbody tr th:only-of-type {\n",
              "        vertical-align: middle;\n",
              "    }\n",
              "\n",
              "    .dataframe tbody tr th {\n",
              "        vertical-align: top;\n",
              "    }\n",
              "\n",
              "    .dataframe thead th {\n",
              "        text-align: right;\n",
              "    }\n",
              "</style>\n",
              "<table border=\"1\" class=\"dataframe\">\n",
              "  <thead>\n",
              "    <tr style=\"text-align: right;\">\n",
              "      <th></th>\n",
              "      <th>track_id</th>\n",
              "      <th>track_name</th>\n",
              "      <th>artist_name</th>\n",
              "      <th>artist_count</th>\n",
              "      <th>in_spotify_playlists</th>\n",
              "      <th>in_spotify_charts</th>\n",
              "      <th>streams</th>\n",
              "      <th>data_lancamento</th>\n",
              "      <th>total_playlists</th>\n",
              "      <th>in_apple_playlists</th>\n",
              "      <th>...</th>\n",
              "      <th>quartil_acousticness</th>\n",
              "      <th>classificacao_acousticness</th>\n",
              "      <th>quartil_instrumentalness</th>\n",
              "      <th>classificacao_instrumentalness</th>\n",
              "      <th>quartil_liveness</th>\n",
              "      <th>classificacao_liveness</th>\n",
              "      <th>quartil_speechiness</th>\n",
              "      <th>quartil_total_playlists</th>\n",
              "      <th>classificacao_speechiness</th>\n",
              "      <th>classificacao_total_playlists</th>\n",
              "    </tr>\n",
              "  </thead>\n",
              "  <tbody>\n",
              "    <tr>\n",
              "      <th>0</th>\n",
              "      <td>1404326</td>\n",
              "      <td>What Was I Made For? [From The Motion Picture ...</td>\n",
              "      <td>Billie Eilish</td>\n",
              "      <td>1</td>\n",
              "      <td>873</td>\n",
              "      <td>104</td>\n",
              "      <td>30546883</td>\n",
              "      <td>2023-07-13</td>\n",
              "      <td>1048</td>\n",
              "      <td>80</td>\n",
              "      <td>...</td>\n",
              "      <td>4</td>\n",
              "      <td>alto</td>\n",
              "      <td>1</td>\n",
              "      <td>baixo</td>\n",
              "      <td>2</td>\n",
              "      <td>medio</td>\n",
              "      <td>1</td>\n",
              "      <td>2</td>\n",
              "      <td>baixo</td>\n",
              "      <td>medio</td>\n",
              "    </tr>\n",
              "    <tr>\n",
              "      <th>1</th>\n",
              "      <td>4703367</td>\n",
              "      <td>I'm Tired - From \"Euphoria\" An Original HBO Se...</td>\n",
              "      <td>Labrinth</td>\n",
              "      <td>1</td>\n",
              "      <td>1888</td>\n",
              "      <td>0</td>\n",
              "      <td>121913181</td>\n",
              "      <td>2022-02-04</td>\n",
              "      <td>1972</td>\n",
              "      <td>26</td>\n",
              "      <td>...</td>\n",
              "      <td>3</td>\n",
              "      <td>medio</td>\n",
              "      <td>1</td>\n",
              "      <td>baixo</td>\n",
              "      <td>4</td>\n",
              "      <td>alto</td>\n",
              "      <td>1</td>\n",
              "      <td>2</td>\n",
              "      <td>baixo</td>\n",
              "      <td>medio</td>\n",
              "    </tr>\n",
              "    <tr>\n",
              "      <th>2</th>\n",
              "      <td>4611820</td>\n",
              "      <td>Special</td>\n",
              "      <td>SZA</td>\n",
              "      <td>1</td>\n",
              "      <td>906</td>\n",
              "      <td>0</td>\n",
              "      <td>88092256</td>\n",
              "      <td>2022-12-09</td>\n",
              "      <td>915</td>\n",
              "      <td>6</td>\n",
              "      <td>...</td>\n",
              "      <td>4</td>\n",
              "      <td>alto</td>\n",
              "      <td>1</td>\n",
              "      <td>baixo</td>\n",
              "      <td>2</td>\n",
              "      <td>medio</td>\n",
              "      <td>2</td>\n",
              "      <td>1</td>\n",
              "      <td>medio</td>\n",
              "      <td>baixo</td>\n",
              "    </tr>\n",
              "    <tr>\n",
              "      <th>3</th>\n",
              "      <td>4671002</td>\n",
              "      <td>Boyfriends</td>\n",
              "      <td>Harry Styles</td>\n",
              "      <td>1</td>\n",
              "      <td>1517</td>\n",
              "      <td>0</td>\n",
              "      <td>137070925</td>\n",
              "      <td>2022-05-20</td>\n",
              "      <td>1573</td>\n",
              "      <td>26</td>\n",
              "      <td>...</td>\n",
              "      <td>4</td>\n",
              "      <td>alto</td>\n",
              "      <td>1</td>\n",
              "      <td>baixo</td>\n",
              "      <td>2</td>\n",
              "      <td>medio</td>\n",
              "      <td>1</td>\n",
              "      <td>2</td>\n",
              "      <td>baixo</td>\n",
              "      <td>medio</td>\n",
              "    </tr>\n",
              "    <tr>\n",
              "      <th>4</th>\n",
              "      <td>7556948</td>\n",
              "      <td>Crown</td>\n",
              "      <td>Kendrick Lamar</td>\n",
              "      <td>1</td>\n",
              "      <td>1493</td>\n",
              "      <td>0</td>\n",
              "      <td>42485571</td>\n",
              "      <td>2022-05-13</td>\n",
              "      <td>1505</td>\n",
              "      <td>2</td>\n",
              "      <td>...</td>\n",
              "      <td>4</td>\n",
              "      <td>alto</td>\n",
              "      <td>1</td>\n",
              "      <td>baixo</td>\n",
              "      <td>2</td>\n",
              "      <td>medio</td>\n",
              "      <td>1</td>\n",
              "      <td>2</td>\n",
              "      <td>baixo</td>\n",
              "      <td>medio</td>\n",
              "    </tr>\n",
              "  </tbody>\n",
              "</table>\n",
              "<p>5 rows × 43 columns</p>\n",
              "</div>\n",
              "    <div class=\"colab-df-buttons\">\n",
              "\n",
              "  <div class=\"colab-df-container\">\n",
              "    <button class=\"colab-df-convert\" onclick=\"convertToInteractive('df-6772b29d-7240-4eb2-869b-df17483d2461')\"\n",
              "            title=\"Convert this dataframe to an interactive table.\"\n",
              "            style=\"display:none;\">\n",
              "\n",
              "  <svg xmlns=\"http://www.w3.org/2000/svg\" height=\"24px\" viewBox=\"0 -960 960 960\">\n",
              "    <path d=\"M120-120v-720h720v720H120Zm60-500h600v-160H180v160Zm220 220h160v-160H400v160Zm0 220h160v-160H400v160ZM180-400h160v-160H180v160Zm440 0h160v-160H620v160ZM180-180h160v-160H180v160Zm440 0h160v-160H620v160Z\"/>\n",
              "  </svg>\n",
              "    </button>\n",
              "\n",
              "  <style>\n",
              "    .colab-df-container {\n",
              "      display:flex;\n",
              "      gap: 12px;\n",
              "    }\n",
              "\n",
              "    .colab-df-convert {\n",
              "      background-color: #E8F0FE;\n",
              "      border: none;\n",
              "      border-radius: 50%;\n",
              "      cursor: pointer;\n",
              "      display: none;\n",
              "      fill: #1967D2;\n",
              "      height: 32px;\n",
              "      padding: 0 0 0 0;\n",
              "      width: 32px;\n",
              "    }\n",
              "\n",
              "    .colab-df-convert:hover {\n",
              "      background-color: #E2EBFA;\n",
              "      box-shadow: 0px 1px 2px rgba(60, 64, 67, 0.3), 0px 1px 3px 1px rgba(60, 64, 67, 0.15);\n",
              "      fill: #174EA6;\n",
              "    }\n",
              "\n",
              "    .colab-df-buttons div {\n",
              "      margin-bottom: 4px;\n",
              "    }\n",
              "\n",
              "    [theme=dark] .colab-df-convert {\n",
              "      background-color: #3B4455;\n",
              "      fill: #D2E3FC;\n",
              "    }\n",
              "\n",
              "    [theme=dark] .colab-df-convert:hover {\n",
              "      background-color: #434B5C;\n",
              "      box-shadow: 0px 1px 3px 1px rgba(0, 0, 0, 0.15);\n",
              "      filter: drop-shadow(0px 1px 2px rgba(0, 0, 0, 0.3));\n",
              "      fill: #FFFFFF;\n",
              "    }\n",
              "  </style>\n",
              "\n",
              "    <script>\n",
              "      const buttonEl =\n",
              "        document.querySelector('#df-6772b29d-7240-4eb2-869b-df17483d2461 button.colab-df-convert');\n",
              "      buttonEl.style.display =\n",
              "        google.colab.kernel.accessAllowed ? 'block' : 'none';\n",
              "\n",
              "      async function convertToInteractive(key) {\n",
              "        const element = document.querySelector('#df-6772b29d-7240-4eb2-869b-df17483d2461');\n",
              "        const dataTable =\n",
              "          await google.colab.kernel.invokeFunction('convertToInteractive',\n",
              "                                                    [key], {});\n",
              "        if (!dataTable) return;\n",
              "\n",
              "        const docLinkHtml = 'Like what you see? Visit the ' +\n",
              "          '<a target=\"_blank\" href=https://colab.research.google.com/notebooks/data_table.ipynb>data table notebook</a>'\n",
              "          + ' to learn more about interactive tables.';\n",
              "        element.innerHTML = '';\n",
              "        dataTable['output_type'] = 'display_data';\n",
              "        await google.colab.output.renderOutput(dataTable, element);\n",
              "        const docLink = document.createElement('div');\n",
              "        docLink.innerHTML = docLinkHtml;\n",
              "        element.appendChild(docLink);\n",
              "      }\n",
              "    </script>\n",
              "  </div>\n",
              "\n",
              "\n",
              "<div id=\"df-39e9b975-5bed-4596-ab58-416dffb7faf8\">\n",
              "  <button class=\"colab-df-quickchart\" onclick=\"quickchart('df-39e9b975-5bed-4596-ab58-416dffb7faf8')\"\n",
              "            title=\"Suggest charts\"\n",
              "            style=\"display:none;\">\n",
              "\n",
              "<svg xmlns=\"http://www.w3.org/2000/svg\" height=\"24px\"viewBox=\"0 0 24 24\"\n",
              "     width=\"24px\">\n",
              "    <g>\n",
              "        <path d=\"M19 3H5c-1.1 0-2 .9-2 2v14c0 1.1.9 2 2 2h14c1.1 0 2-.9 2-2V5c0-1.1-.9-2-2-2zM9 17H7v-7h2v7zm4 0h-2V7h2v10zm4 0h-2v-4h2v4z\"/>\n",
              "    </g>\n",
              "</svg>\n",
              "  </button>\n",
              "\n",
              "<style>\n",
              "  .colab-df-quickchart {\n",
              "      --bg-color: #E8F0FE;\n",
              "      --fill-color: #1967D2;\n",
              "      --hover-bg-color: #E2EBFA;\n",
              "      --hover-fill-color: #174EA6;\n",
              "      --disabled-fill-color: #AAA;\n",
              "      --disabled-bg-color: #DDD;\n",
              "  }\n",
              "\n",
              "  [theme=dark] .colab-df-quickchart {\n",
              "      --bg-color: #3B4455;\n",
              "      --fill-color: #D2E3FC;\n",
              "      --hover-bg-color: #434B5C;\n",
              "      --hover-fill-color: #FFFFFF;\n",
              "      --disabled-bg-color: #3B4455;\n",
              "      --disabled-fill-color: #666;\n",
              "  }\n",
              "\n",
              "  .colab-df-quickchart {\n",
              "    background-color: var(--bg-color);\n",
              "    border: none;\n",
              "    border-radius: 50%;\n",
              "    cursor: pointer;\n",
              "    display: none;\n",
              "    fill: var(--fill-color);\n",
              "    height: 32px;\n",
              "    padding: 0;\n",
              "    width: 32px;\n",
              "  }\n",
              "\n",
              "  .colab-df-quickchart:hover {\n",
              "    background-color: var(--hover-bg-color);\n",
              "    box-shadow: 0 1px 2px rgba(60, 64, 67, 0.3), 0 1px 3px 1px rgba(60, 64, 67, 0.15);\n",
              "    fill: var(--button-hover-fill-color);\n",
              "  }\n",
              "\n",
              "  .colab-df-quickchart-complete:disabled,\n",
              "  .colab-df-quickchart-complete:disabled:hover {\n",
              "    background-color: var(--disabled-bg-color);\n",
              "    fill: var(--disabled-fill-color);\n",
              "    box-shadow: none;\n",
              "  }\n",
              "\n",
              "  .colab-df-spinner {\n",
              "    border: 2px solid var(--fill-color);\n",
              "    border-color: transparent;\n",
              "    border-bottom-color: var(--fill-color);\n",
              "    animation:\n",
              "      spin 1s steps(1) infinite;\n",
              "  }\n",
              "\n",
              "  @keyframes spin {\n",
              "    0% {\n",
              "      border-color: transparent;\n",
              "      border-bottom-color: var(--fill-color);\n",
              "      border-left-color: var(--fill-color);\n",
              "    }\n",
              "    20% {\n",
              "      border-color: transparent;\n",
              "      border-left-color: var(--fill-color);\n",
              "      border-top-color: var(--fill-color);\n",
              "    }\n",
              "    30% {\n",
              "      border-color: transparent;\n",
              "      border-left-color: var(--fill-color);\n",
              "      border-top-color: var(--fill-color);\n",
              "      border-right-color: var(--fill-color);\n",
              "    }\n",
              "    40% {\n",
              "      border-color: transparent;\n",
              "      border-right-color: var(--fill-color);\n",
              "      border-top-color: var(--fill-color);\n",
              "    }\n",
              "    60% {\n",
              "      border-color: transparent;\n",
              "      border-right-color: var(--fill-color);\n",
              "    }\n",
              "    80% {\n",
              "      border-color: transparent;\n",
              "      border-right-color: var(--fill-color);\n",
              "      border-bottom-color: var(--fill-color);\n",
              "    }\n",
              "    90% {\n",
              "      border-color: transparent;\n",
              "      border-bottom-color: var(--fill-color);\n",
              "    }\n",
              "  }\n",
              "</style>\n",
              "\n",
              "  <script>\n",
              "    async function quickchart(key) {\n",
              "      const quickchartButtonEl =\n",
              "        document.querySelector('#' + key + ' button');\n",
              "      quickchartButtonEl.disabled = true;  // To prevent multiple clicks.\n",
              "      quickchartButtonEl.classList.add('colab-df-spinner');\n",
              "      try {\n",
              "        const charts = await google.colab.kernel.invokeFunction(\n",
              "            'suggestCharts', [key], {});\n",
              "      } catch (error) {\n",
              "        console.error('Error during call to suggestCharts:', error);\n",
              "      }\n",
              "      quickchartButtonEl.classList.remove('colab-df-spinner');\n",
              "      quickchartButtonEl.classList.add('colab-df-quickchart-complete');\n",
              "    }\n",
              "    (() => {\n",
              "      let quickchartButtonEl =\n",
              "        document.querySelector('#df-39e9b975-5bed-4596-ab58-416dffb7faf8 button');\n",
              "      quickchartButtonEl.style.display =\n",
              "        google.colab.kernel.accessAllowed ? 'block' : 'none';\n",
              "    })();\n",
              "  </script>\n",
              "</div>\n",
              "\n",
              "    </div>\n",
              "  </div>\n"
            ],
            "application/vnd.google.colaboratory.intrinsic+json": {
              "type": "dataframe",
              "variable_name": "data"
            }
          },
          "metadata": {},
          "execution_count": 2
        }
      ]
    },
    {
      "cell_type": "markdown",
      "source": [
        "# **Bibliotecas**"
      ],
      "metadata": {
        "id": "Qdsl5tOinOCz"
      }
    },
    {
      "cell_type": "code",
      "source": [
        "# Manipulação de dados\n",
        "import pandas as pd\n",
        "import numpy as np\n",
        "\n",
        "# Visualização\n",
        "import matplotlib.pyplot as plt\n",
        "import seaborn as sns\n",
        "\n",
        "# Regressão e modelagem estatística\n",
        "import statsmodels.api as sm\n",
        "from sklearn.linear_model import LinearRegression\n",
        "from sklearn.preprocessing import StandardScaler\n",
        "from sklearn.cluster import KMeans\n",
        "from sklearn.metrics import r2_score, mean_squared_error\n",
        "\n",
        "# Testes estatísticos\n",
        "from scipy.stats import (\n",
        "    mannwhitneyu,\n",
        "    spearmanr,\n",
        "    shapiro,\n",
        "    ttest_ind,\n",
        "    kruskal,\n",
        "    f_oneway\n",
        ")\n",
        "\n",
        "# Pós-teste de comparações múltiplas\n",
        "import scikit_posthocs as sp\n"
      ],
      "metadata": {
        "id": "XfPQu_dwnzuE"
      },
      "execution_count": null,
      "outputs": []
    },
    {
      "cell_type": "markdown",
      "source": [
        "#**Testes Estatísticos**"
      ],
      "metadata": {
        "id": "jFzcttkhAMRt"
      }
    },
    {
      "cell_type": "markdown",
      "source": [
        "Ao investigar se uma variável realmente influencia outra, aplicamos testes estatísticos. Esses testes nos ajudam a distinguir se os padrões observados nos dados são significativos ou se podem ter ocorrido por acaso.\n",
        "\n",
        "Existem dois tipos principais:\n",
        "- **Testes paramétricos**: exigem que os dados sigam uma distribuição normal (ex: teste t)\n",
        "- **Testes não paramétricos**: mais flexíveis quanto à distribuição (ex: Mann-Whitney U)\n",
        "\n",
        "Para saber qual usar, é comum aplicar o **teste de Shapiro-Wilk**, que verifica se os dados seguem distribuição normal. A escolha do teste correto aumenta a precisão da análise e evita interpretações erradas."
      ],
      "metadata": {
        "id": "3z9PDDX7GC7A"
      }
    },
    {
      "cell_type": "markdown",
      "source": [
        "##Músicas com BPM mais alto têm mais streams\n"
      ],
      "metadata": {
        "id": "Va76O6FwGeIS"
      }
    },
    {
      "cell_type": "markdown",
      "source": [
        "Esta análise investiga se músicas com batidas por minuto (BPM) mais altas estão associadas a um maior número de streams no Spotify. A hipótese é que faixas mais aceleradas possam atrair mais ouvintes por serem mais dançantes ou energéticas.\n",
        "\n",
        "Para isso, dividimos as músicas em dois grupos com base na mediana do BPM:\n",
        "- Grupo 1: músicas com BPM igual ou acima da mediana\n",
        "- Grupo 2: músicas com BPM abaixo da mediana\n",
        "\n",
        "Como o teste de Shapiro-Wilk indicou que os dados **não seguem distribuição normal**, aplicamos o **teste de Mann-Whitney U**, que é não paramétrico e adequado para esse tipo de comparação.\n"
      ],
      "metadata": {
        "id": "tUzXTYHyN7sL"
      }
    },
    {
      "cell_type": "code",
      "source": [
        "# Divide em dois grupos com base na mediana do BPM\n",
        "mediana_bpm = data['bpm'].median()\n",
        "alto_bpm = data[data['bpm'] >= mediana_bpm]['streams'].dropna()\n",
        "baixo_bpm = data[data['bpm'] < mediana_bpm]['streams'].dropna()\n",
        "\n",
        "# Teste de normalidade\n",
        "print(\"Normalidade:\")\n",
        "print(\"Alto BPM:\", shapiro(alto_bpm).pvalue)\n",
        "print(\"Baixo BPM:\", shapiro(baixo_bpm).pvalue)\n",
        "\n",
        "# Aplica o teste adequado\n",
        "if shapiro(alto_bpm).pvalue > 0.05 and shapiro(baixo_bpm).pvalue > 0.05:\n",
        "    stat, p = ttest_ind(alto_bpm, baixo_bpm, equal_var=False)\n",
        "    print(\"Teste t: \", p)\n",
        "else:\n",
        "    stat, p = mannwhitneyu(alto_bpm, baixo_bpm, alternative='two-sided')\n",
        "    print(\"Mann-Whitney U: \", p)\n"
      ],
      "metadata": {
        "colab": {
          "base_uri": "https://localhost:8080/"
        },
        "id": "J2GUyqM0GMZi",
        "outputId": "106b1a62-31b9-400a-892d-ef37a819ca3d"
      },
      "execution_count": null,
      "outputs": [
        {
          "output_type": "stream",
          "name": "stdout",
          "text": [
            "Normalidade:\n",
            "Alto BPM: 8.633950825186516e-27\n",
            "Baixo BPM: 2.2957442992908297e-24\n",
            "Mann-Whitney U:  0.2963892396513623\n"
          ]
        }
      ]
    },
    {
      "cell_type": "markdown",
      "source": [
        "O p-valor do teste de Mann-Whitney foi **0.296**, acima do limiar de 0.05, o que indica que **não há diferença estatisticamente significativa** no número de streams entre músicas com BPM alto e baixo.\n",
        "\n",
        "**Conclusão:**  \n",
        "A hipótese foi rejeitada. Músicas com batidas mais rápidas **não** apresentam um desempenho estatisticamente diferente em streams quando comparadas às mais lentas. Isso sugere que o BPM, isoladamente, **não é um bom indicador de sucesso** em termos de popularidade.\n"
      ],
      "metadata": {
        "id": "uzgljORdOB_p"
      }
    },
    {
      "cell_type": "markdown",
      "source": [
        "## Existe correlação entre número de playlists e streams?"
      ],
      "metadata": {
        "id": "VSQ3vNr0GufH"
      }
    },
    {
      "cell_type": "markdown",
      "source": [
        "Para esta análise, buscamos verificar se músicas que aparecem em mais playlists também têm mais streams. Como a variável `total_playlists` representa a soma de aparições em playlists do Spotify, Apple Music e Deezer, usamos essa métrica como base para investigar a hipótese.\n",
        "\n",
        "Utilizamos o **teste de correlação de Spearman**, que é apropriado quando os dados não seguem uma distribuição normal e queremos avaliar relações monotônicas entre variáveis.\n"
      ],
      "metadata": {
        "id": "bjfdSNr1M_HW"
      }
    },
    {
      "cell_type": "code",
      "source": [
        "# Soma presença em playlists\n",
        "data['total_playlists'] = data[['in_spotify_playlists', 'in_apple_playlists', 'in_deezer_playlists']].sum(axis=1)\n",
        "\n",
        "# Correlação\n",
        "corr, p = spearmanr(data['total_playlists'], data['streams'])\n",
        "print(f\"Correlação de Spearman: {corr:.3f}, p-valor: {p:.5f}\")\n"
      ],
      "metadata": {
        "colab": {
          "base_uri": "https://localhost:8080/"
        },
        "id": "BoPpg73RG98l",
        "outputId": "d1974921-3293-4d65-fa93-f14889747053"
      },
      "execution_count": null,
      "outputs": [
        {
          "output_type": "stream",
          "name": "stdout",
          "text": [
            "Correlação de Spearman: 0.832, p-valor: 0.00000\n"
          ]
        }
      ]
    },
    {
      "cell_type": "markdown",
      "source": [
        "###Resultado do teste de Spearman:\n",
        "\n",
        "O resultado mostra uma **correlação forte e estatisticamente significativa** entre o número de playlists e os streams. Ou seja, quanto mais uma música aparece em playlists, maior tende a ser o seu desempenho em termos de audiência.\n",
        "\n",
        "**Conclusão:**  \n",
        "A hipótese foi confirmada. A presença em playlists é um dos fatores com maior impacto na popularidade das músicas no Spotify e outras plataformas."
      ],
      "metadata": {
        "id": "ZH78LXMwNEDX"
      }
    },
    {
      "cell_type": "markdown",
      "source": [
        "## Artistas com mais músicas têm mais streams?\n"
      ],
      "metadata": {
        "id": "vyyOkItdHCFx"
      }
    },
    {
      "cell_type": "markdown",
      "source": [
        "Esta análise investiga se artistas que possuem mais faixas lançadas também apresentam uma média de streams mais alta por música.\n",
        "\n",
        "Agrupamos os dados por nome do artista para:\n",
        "- Contar o número de faixas por artista (`n_musicas`)\n",
        "- Calcular a média de streams por artista (`media_streams`)\n",
        "\n",
        "Como os dados não necessariamente seguem uma distribuição normal, utilizamos o **teste de correlação de Spearman**, ideal para avaliar associações monotônicas entre duas variáveis.\n"
      ],
      "metadata": {
        "id": "znPXdIM9O1oO"
      }
    },
    {
      "cell_type": "code",
      "source": [
        "\n",
        "\n",
        "# Agrupamentos por artista\n",
        "n_musicas = data.groupby('artist_name')['track_id'].count()\n",
        "media_streams = data.groupby('artist_name')['streams'].mean()\n",
        "\n",
        "# Junta em um novo DataFrame\n",
        "df_artistas = pd.DataFrame({\n",
        "    'n_musicas': n_musicas,\n",
        "    'media_streams': media_streams\n",
        "}).dropna()\n",
        "\n",
        "# Correlação\n",
        "corr, p = spearmanr(df_artistas['n_musicas'], df_artistas['media_streams'])\n",
        "print(f\"Correlação de Spearman: {corr:.3f}, p-valor: {p:.5f}\")\n"
      ],
      "metadata": {
        "colab": {
          "base_uri": "https://localhost:8080/"
        },
        "id": "IOXS_k8CHCno",
        "outputId": "e3d78f2b-ebfd-46fd-cc95-f86fa9839c72"
      },
      "execution_count": null,
      "outputs": [
        {
          "output_type": "stream",
          "name": "stdout",
          "text": [
            "Correlação de Spearman: 0.176, p-valor: 0.00001\n"
          ]
        }
      ]
    },
    {
      "cell_type": "markdown",
      "source": [
        "A correlação positiva e significativa indica que existe uma associação entre o número de faixas lançadas e a média de streams de um artista. No entanto, o valor de ρ = 0.176 mostra que essa relação é **fraca**.\n",
        "\n",
        "**Conclusão:**  \n",
        "Artistas mais produtivos tendem a ter uma média de streams ligeiramente maior, possivelmente devido a maior visibilidade, base de fãs consolidada ou presença em playlists. No entanto, **o número de músicas por si só não garante sucesso elevado**: outros fatores como gênero, engajamento e marketing também são determinantes.\n"
      ],
      "metadata": {
        "id": "cKOPC5XWO4_4"
      }
    },
    {
      "cell_type": "markdown",
      "source": [
        "##Comparando streams de 2023 vs. 2020 com teste t ou Mann-Whitney"
      ],
      "metadata": {
        "id": "ufdPN-tiARVF"
      }
    },
    {
      "cell_type": "markdown",
      "source": [
        "Nesta análise, comparamos o desempenho de músicas lançadas em dois anos distintos — 2020 e 2023 — em termos de número de streams. A hipótese é que músicas mais antigas tendem a acumular mais streams, enquanto lançamentos recentes, como os de 2023, ainda não tiveram tempo de atingir números elevados.\n",
        "\n",
        "Para verificar essa diferença, foram aplicados os seguintes passos:\n",
        "\n",
        "1. Verificação da normalidade dos dados com o teste de Shapiro-Wilk\n",
        "2. Escolha do teste de comparação baseado na distribuição dos dados:\n",
        "   - Se normal: teste t de Student\n",
        "   - Se não normal: teste de Mann-Whitney U\n"
      ],
      "metadata": {
        "id": "ATRI0E5OPbaE"
      }
    },
    {
      "cell_type": "code",
      "source": [
        "#Garante que 'data_lancamento' é datetime e cria 'ano_lancamento'\n",
        "data['data_lancamento'] = pd.to_datetime(data['data_lancamento'], errors='coerce')\n",
        "data['ano_lancamento'] = data['data_lancamento'].dt.year\n",
        "\n",
        "#Filtra os grupos a serem comparados\n",
        "grupo_2023 = data[data['ano_lancamento'] == 2023]['streams'].dropna()\n",
        "grupo_2020 = data[data['ano_lancamento'] == 2020]['streams'].dropna()\n",
        "\n",
        "#Teste de normalidade (Shapiro-Wilk)\n",
        "print(\" Teste de normalidade\")\n",
        "shapiro_2023 = shapiro(grupo_2023)\n",
        "shapiro_2020 = shapiro(grupo_2020)\n",
        "\n",
        "print(f\"2023 → p-valor: {shapiro_2023.pvalue:.5f}\")\n",
        "print(f\"2020 → p-valor: {shapiro_2020.pvalue:.5f}\")\n",
        "\n",
        "#Escolha do teste baseado na normalidade\n",
        "if shapiro_2023.pvalue > 0.05 and shapiro_2020.pvalue > 0.05:\n",
        "    print(\"\\n Dados normais: aplicando Teste t\")\n",
        "    t_stat, p_val = ttest_ind(grupo_2023, grupo_2020, equal_var=False)\n",
        "    print(f\"Estatística t: {t_stat:.3f} | p-valor: {p_val:.5f}\")\n",
        "else:\n",
        "    print(\"\\n Dados não normais: aplicando Teste Mann-Whitney U\")\n",
        "    u_stat, p_val = mannwhitneyu(grupo_2023, grupo_2020, alternative='two-sided')\n",
        "    print(f\"Estatística U: {u_stat} | p-valor: {p_val:.5f}\")\n",
        "\n",
        "#Interpretação rápida\n",
        "if p_val < 0.05:\n",
        "    print(\" Diferença estatisticamente significativa entre os anos.\")\n",
        "else:\n",
        "    print(\" Nenhuma diferença estatística significativa entre os anos.\")\n",
        "\n"
      ],
      "metadata": {
        "colab": {
          "base_uri": "https://localhost:8080/"
        },
        "id": "f_DSu1CsEUZj",
        "outputId": "c2f4e404-5220-4447-edbe-ad960e4da7ea"
      },
      "execution_count": null,
      "outputs": [
        {
          "output_type": "stream",
          "name": "stdout",
          "text": [
            " Teste de normalidade\n",
            "2023 → p-valor: 0.00000\n",
            "2020 → p-valor: 0.07971\n",
            "\n",
            " Dados não normais: aplicando Teste Mann-Whitney U\n",
            "Estatística U: 356.0 | p-valor: 0.00000\n",
            " Diferença estatisticamente significativa entre os anos.\n"
          ]
        }
      ]
    },
    {
      "cell_type": "markdown",
      "source": [
        "A diferença no número de streams entre músicas de 2023 e 2020 foi **estatisticamente significativa** (p < 0.05). Isso nos permite rejeitar a hipótese nula e concluir que há uma diferença real entre os grupos.\n",
        "\n",
        "**Conclusão:**  \n",
        "Músicas lançadas em 2023 têm, em média, menos streams do que músicas de 2020. Esse resultado é esperado, pois músicas mais antigas tiveram mais tempo para serem ouvidas e adicionadas a playlists, acumulando mais reproduções.\n"
      ],
      "metadata": {
        "id": "43URBdYbPed3"
      }
    },
    {
      "cell_type": "markdown",
      "source": [
        "#**Regressão Linear e a Validação das Hipóteses**"
      ],
      "metadata": {
        "id": "sRvuUGrXXF2o"
      }
    },
    {
      "cell_type": "markdown",
      "source": [
        "Nesta seção, consolidamos a investigação de todas as hipóteses levantadas ao longo do projeto, com base em dados do Spotify e outras plataformas. Aplicamos diferentes abordagens estatísticas para testar as relações entre variáveis sonoras, comerciais e contextuais das músicas com seu desempenho em termos de streams.\n",
        "\n",
        "As validações seguiram os seguintes passos:\n",
        "\n",
        "1. **Formulação de hipótese**: para cada análise, foi definida uma suposição com base em conhecimento do mercado ou padrões esperados.\n",
        "2. **Tratamento dos dados**: agrupamos, filtramos ou criamos variáveis para estruturar comparações justas.\n",
        "3. **Escolha do teste estatístico**: comparamos distribuições usando testes como o **teste t**, **Mann-Whitney U**, **correlação de Spearman** ou **regressão linear**, dependendo da distribuição e natureza das variáveis.\n",
        "4. **Análise e interpretação**: cada teste foi acompanhado de uma análise dos resultados, com foco no valor de p, coeficientes e significância estatística.\n",
        "\n",
        "Agora, avançamos para a etapa final de modelagem com **regressão linear múltipla**, a fim de entender quais variáveis sonoras influenciam mais diretamente o sucesso das faixas em número de streams.\n"
      ],
      "metadata": {
        "id": "lCgaBraaQPra"
      }
    },
    {
      "cell_type": "markdown",
      "source": [
        "## **Hipótese 1 - Músicas com BPM mais altos fazem mais sucesso em termos de streams no Spotify**"
      ],
      "metadata": {
        "id": "Tkgc59NFqSXY"
      }
    },
    {
      "cell_type": "markdown",
      "source": [
        "Nesta hipótese, investigamos se músicas com BPM mais altos (batidas por minuto) têm, em média, mais streams. Consideramos o BPM como variável independente (X), e o número de streams como a variável dependente (Y).\n"
      ],
      "metadata": {
        "id": "L-yuoqYdqnCk"
      }
    },
    {
      "cell_type": "code",
      "source": [
        "#Definindo as variáveis\n",
        "bpm_df = data.dropna(subset=['bpm', 'streams'])\n",
        "X_bpm = bpm_df[['bpm']]\n",
        "y_bpm = bpm_df['streams']\n",
        "reg_bpm = LinearRegression().fit(X_bpm, y_bpm)\n",
        "y_pred_bpm = reg_bpm.predict(X_bpm)\n",
        "\n",
        "\n",
        "#Ajustando as Métricas\n",
        "r2 = r2_score(y_bpm, y_pred_bpm)\n",
        "n, p = X_bpm.shape[0], X_bpm.shape[1]\n",
        "r2_adj = 1 - (1 - r2) * (n - 1) / (n - p - 1)\n",
        "print(\"\\n🔹 Hipótese 1 - BPM vs Streams\")\n",
        "print(f\"Inclinação: {reg_bpm.coef_[0]:.2f}\")\n",
        "print(f\"Intercepto: {reg_bpm.intercept_:.2f}\")\n",
        "print(f\"R²: {r2:.4f} | R² ajustado: {r2_adj:.4f}\")\n",
        "\n",
        "\n",
        "#Plotando o Gráfico\n",
        "plt.figure(figsize=(8, 5))\n",
        "plt.scatter(X_bpm, y_bpm, color='skyblue', alpha=0.6)\n",
        "plt.plot(X_bpm, y_pred_bpm, color='red')\n",
        "plt.xlabel('BPM')\n",
        "plt.ylabel('Streams')\n",
        "plt.title('Hipótese 1 – BPM vs Streams')\n",
        "plt.grid(True)\n",
        "plt.show()\n"
      ],
      "metadata": {
        "colab": {
          "base_uri": "https://localhost:8080/",
          "height": 575
        },
        "id": "PoKC1Gj5qHww",
        "outputId": "4e57e698-3560-4648-cd6c-247883672925"
      },
      "execution_count": null,
      "outputs": [
        {
          "output_type": "stream",
          "name": "stdout",
          "text": [
            "\n",
            "🔹 Hipótese 1 - BPM vs Streams\n",
            "Inclinação: -38053.34\n",
            "Intercepto: 518454595.00\n",
            "R²: 0.0000 | R² ajustado: -0.0011\n"
          ]
        },
        {
          "output_type": "display_data",
          "data": {
            "text/plain": [
              "<Figure size 800x500 with 1 Axes>"
            ],
            "image/png": "[encoded data removed]"
          },
          "metadata": {}
        }
      ]
    },
    {
      "cell_type": "markdown",
      "source": [
        "A análise de regressão indicou que o BPM não possui poder explicativo relevante sobre os streams. O valor de R² foi muito baixo e o modelo não apresentou significância estatística. Concluímos que o sucesso de uma faixa no Spotify não está relacionado diretamente à sua velocidade rítmica.\n"
      ],
      "metadata": {
        "id": "IQc6TyIurIQu"
      }
    },
    {
      "cell_type": "markdown",
      "source": [
        "## **Hipótese 2 - As músicas mais populares no ranking do Spotify também possuem um comportamento semelhante em outras plataformas como Deezer**"
      ],
      "metadata": {
        "id": "cMHPP8E6rafN"
      }
    },
    {
      "cell_type": "markdown",
      "source": [
        "Nesta hipótese, buscamos entender se o sucesso de uma música no Spotify está relacionado com sua presença em outras plataformas, como Apple Music e Deezer. Foram aplicadas tanto regressões lineares simples quanto múltiplas para investigar a associação entre a presença em rankings de diferentes plataformas e o número de streams no Spotify.\n"
      ],
      "metadata": {
        "id": "X2SReiTnrzQT"
      }
    },
    {
      "cell_type": "code",
      "source": [
        "#definindo as variáveis\n",
        "charts_df = data.dropna(subset=['in_spotify_charts', 'in_deezer_charts', 'in_apple_charts'])\n",
        "X_charts = charts_df[['in_deezer_charts', 'in_apple_charts']]\n",
        "y_charts = charts_df['in_spotify_charts']\n",
        "reg_charts = LinearRegression().fit(X_charts, y_charts)\n",
        "y_pred_charts = reg_charts.predict(X_charts)\n",
        "\n",
        "\n",
        "r2_charts = r2_score(y_charts, y_pred_charts)\n",
        "print(\"\\n Hipótese 2 - Deezer/Apple vs Spotify Charts\")\n",
        "print(f\"Inclinação: {reg_charts.coef_}\")\n",
        "print(f\"Intercepto: {reg_charts.intercept_}\")\n",
        "print(f\"R²: {r2_charts:.4f}\")\n",
        "\n",
        "# Separado Apple\n",
        "\n",
        "charts_appledf = data.dropna(subset=['in_spotify_charts', 'in_apple_charts'])\n",
        "X_charts = charts_appledf[['in_apple_charts']]\n",
        "y_charts = charts_appledf['in_spotify_charts']\n",
        "reg_charts = LinearRegression().fit(X_charts, y_charts)\n",
        "y_pred_charts = reg_charts.predict(X_charts)\n",
        "\n",
        "\n",
        "r2_charts = r2_score(y_charts, y_pred_charts)\n",
        "print(\"\\n Hipótese 2 - Apple vs Spotify Charts\")\n",
        "print(f\"Inclinação: {reg_charts.coef_}\")\n",
        "print(f\"Intercepto: {reg_charts.intercept_}\")\n",
        "print(f\"R²: {r2_charts:.4f}\")\n",
        "\n",
        "# Seprando Deezer\n",
        "\n",
        "charts_deezerdf = data.dropna(subset=['in_spotify_charts', 'in_deezer_charts'])\n",
        "X_charts = charts_deezerdf[['in_deezer_charts']]\n",
        "y_charts = charts_deezerdf['in_spotify_charts']\n",
        "reg_charts = LinearRegression().fit(X_charts, y_charts)\n",
        "y_pred_charts = reg_charts.predict(X_charts)\n",
        "\n",
        "\n",
        "r2_charts = r2_score(y_charts, y_pred_charts)\n",
        "print(\"\\n Hipótese 2 - Deezer vs Spotify Charts\")\n",
        "print(f\"Inclinação: {reg_charts.coef_}\")\n",
        "print(f\"Intercepto: {reg_charts.intercept_}\")\n",
        "print(f\"R²: {r2_charts:.4f}\")"
      ],
      "metadata": {
        "colab": {
          "base_uri": "https://localhost:8080/"
        },
        "id": "blrk28Nwrm2-",
        "outputId": "35089159-e9e0-44a2-f6be-9690f1041d2e"
      },
      "execution_count": null,
      "outputs": [
        {
          "output_type": "stream",
          "name": "stdout",
          "text": [
            "\n",
            " Hipótese 2 - Deezer/Apple vs Spotify Charts\n",
            "Inclinação: [1.49973433 0.14499571]\n",
            "Intercepto: 0.5390738982910221\n",
            "R²: 0.4855\n",
            "\n",
            " Hipótese 2 - Apple vs Spotify Charts\n",
            "Inclinação: [0.21367222]\n",
            "Intercepto: 0.9509091163348575\n",
            "R²: 0.3051\n",
            "\n",
            " Hipótese 2 - Deezer vs Spotify Charts\n",
            "Inclinação: [1.97063111]\n",
            "Intercepto: 6.827196619808871\n",
            "R²: 0.3659\n"
          ]
        }
      ]
    },
    {
      "cell_type": "markdown",
      "source": [
        "Os resultados indicaram que a presença em outras plataformas contribui significativamente para explicar a quantidade de streams. O modelo de regressão apresentou valor de R² satisfatório e significância estatística nas variáveis, especialmente quando combinadas em um modelo múltiplo. Isso reforça a ideia de que o sucesso é amplificado quando uma música tem visibilidade em mais de um ecossistema musical.\n"
      ],
      "metadata": {
        "id": "rlPtoEJ9sDkc"
      }
    },
    {
      "cell_type": "markdown",
      "source": [
        "## **Hipótese 3 - A presença de uma música em um maior número de playlists está relacionada com um maior número de streams.**"
      ],
      "metadata": {
        "id": "o9pucT-VsZ4P"
      }
    },
    {
      "cell_type": "markdown",
      "source": [
        "A terceira hipótese analisa se o número de playlists em que uma música aparece influencia sua popularidade em termos de streams. Para essa análise, foi criada a variável `total_playlists`, que soma as aparições nas playlists do Spotify, Apple Music e Deezer. Em seguida, aplicamos uma regressão linear simples para verificar a relação com os streams.\n"
      ],
      "metadata": {
        "id": "HYsWepliJnfG"
      }
    },
    {
      "cell_type": "code",
      "source": [
        "#definindo as variáveis\n",
        "play_df = data.dropna(subset=['total_playlists', 'streams'])\n",
        "X_play = play_df[['total_playlists']]\n",
        "y_play = play_df['streams']\n",
        "reg_play = LinearRegression().fit(X_play, y_play)\n",
        "y_pred_play = reg_play.predict(X_play)\n",
        "\n",
        "\n",
        "r2_play = r2_score(y_play, y_pred_play)\n",
        "print(\"\\n🔹 Hipótese 3 - Playlists vs Streams\")\n",
        "print(f\"Inclinação: {reg_play.coef_[0]:.2f}\")\n",
        "print(f\"Intercepto: {reg_play.intercept_:.2f}\")\n",
        "print(f\"R²: {r2_play:.4f}\")\n",
        "\n",
        "\n",
        "plt.figure(figsize=(8, 5))\n",
        "plt.scatter(X_play, y_play, color='skyblue', alpha=0.6)\n",
        "plt.plot(X_play, y_pred_play, color='red')\n",
        "plt.xlabel('Total de playlists')\n",
        "plt.ylabel('Streams')\n",
        "plt.title('Hipótese 3 – Playlists vs Streams')\n",
        "plt.grid(True)\n",
        "plt.show()"
      ],
      "metadata": {
        "colab": {
          "base_uri": "https://localhost:8080/",
          "height": 575
        },
        "id": "Fb67l16IspXt",
        "outputId": "a7601908-92ea-4843-d590-48c4c4d73847"
      },
      "execution_count": null,
      "outputs": [
        {
          "output_type": "stream",
          "name": "stdout",
          "text": [
            "\n",
            "🔹 Hipótese 3 - Playlists vs Streams\n",
            "Inclinação: 50233.46\n",
            "Intercepto: 230491535.92\n",
            "R²: 0.6151\n"
          ]
        },
        {
          "output_type": "display_data",
          "data": {
            "text/plain": [
              "<Figure size 800x500 with 1 Axes>"
            ],
            "image/png": "[encoded data removed]"
          },
          "metadata": {}
        }
      ]
    },
    {
      "cell_type": "markdown",
      "source": [
        "A regressão indicou uma relação positiva e estatisticamente significativa entre o número de playlists e os streams. Isso confirma a hipótese de que quanto mais uma música é exposta em diferentes playlists, maior tende a ser seu alcance e desempenho. A variável `total_playlists` mostrou-se relevante na explicação da popularidade das faixas.\n"
      ],
      "metadata": {
        "id": "JEOGdDsbsvyX"
      }
    },
    {
      "cell_type": "markdown",
      "source": [
        "## **Hipotese 4 - Artistas com maior número de músicas no Spotify têm mais streams.**\n",
        "\n"
      ],
      "metadata": {
        "id": "1rbpShIItC01"
      }
    },
    {
      "cell_type": "markdown",
      "source": [
        "Nesta hipótese, investigamos se artistas com mais faixas lançadas no Spotify tendem a ter uma média de streams maior. Para isso, agrupamos os dados por nome de artista, calculando o número total de faixas e a média de streams por artista. A relação entre essas duas variáveis foi analisada utilizando o teste de correlação de Spearman."
      ],
      "metadata": {
        "id": "e4B1hjZWJwvD"
      }
    },
    {
      "cell_type": "code",
      "source": [
        "df_artistas = data.groupby('artist_name').agg({\n",
        "    'track_id': 'count',\n",
        "    'streams': 'sum'\n",
        "}).reset_index().rename(columns={'track_id': 'num_musicas', 'streams': 'total_streams'})\n",
        "\n",
        "\n",
        "X_art = df_artistas[['num_musicas']]\n",
        "y_art = df_artistas['total_streams']\n",
        "reg_art = LinearRegression().fit(X_art, y_art)\n",
        "y_pred_art = reg_art.predict(X_art)\n",
        "\n",
        "\n",
        "print(\"\\n🔹 Hipótese 4 - N° de músicas por artista vs Streams\")\n",
        "print(f\"Inclinação: {reg_art.coef_[0]:.2f}\")\n",
        "print(f\"Intercepto: {reg_art.intercept_:.2f}\")\n",
        "print(f\"R²: {r2_score(y_art, y_pred_art):.4f}\")\n",
        "\n",
        "\n",
        "plt.figure(figsize=(8, 5))\n",
        "plt.scatter(X_art, y_art, color='skyblue', alpha=0.6)\n",
        "plt.plot(X_art, y_pred_art, color='red')\n",
        "plt.xlabel('Nº de músicas por artista')\n",
        "plt.ylabel('Total de streams')\n",
        "plt.title('Hipótese 4 – Artistas com mais músicas têm mais streams')\n",
        "plt.grid(True)\n",
        "plt.show()"
      ],
      "metadata": {
        "colab": {
          "base_uri": "https://localhost:8080/",
          "height": 575
        },
        "id": "-VQmhVmMtKoN",
        "outputId": "fa6f40db-8b5a-4bdb-8532-ce458d4da4cb"
      },
      "execution_count": null,
      "outputs": [
        {
          "output_type": "stream",
          "name": "stdout",
          "text": [
            "\n",
            "🔹 Hipótese 4 - N° de músicas por artista vs Streams\n",
            "Inclinação: 501564555.88\n",
            "Intercepto: 17994229.90\n",
            "R²: 0.6067\n"
          ]
        },
        {
          "output_type": "display_data",
          "data": {
            "text/plain": [
              "<Figure size 800x500 with 1 Axes>"
            ],
            "image/png": "[encoded data removed]"
          },
          "metadata": {}
        }
      ]
    },
    {
      "cell_type": "markdown",
      "source": [
        "A correlação de Spearman revelou uma associação positiva entre o número de músicas lançadas e a média de streams por artista. Isso indica que artistas com maior volume de produção tendem a atrair mais ouvintes, possivelmente por estarem mais presentes em playlists, algoritmos e buscas. A hipótese foi confirmada.\n"
      ],
      "metadata": {
        "id": "tMG62pa7tO_0"
      }
    },
    {
      "cell_type": "markdown",
      "source": [
        "## **Hipótese 5 - As características da música influenciam o sucesso em termos de streams no Spotify.**"
      ],
      "metadata": {
        "id": "-lmkihD6tRJU"
      }
    },
    {
      "cell_type": "markdown",
      "source": [
        "Nesta hipótese, buscamos entender se características sonoras como `danceability`, `valence`, `energy`, `acousticness`, `instrumentalness` e `speechiness` influenciam o sucesso de uma música em termos de número de streams. Para isso, aplicamos uma regressão linear múltipla, utilizando essas variáveis como preditoras e os `streams` como variável resposta.\n"
      ],
      "metadata": {
        "id": "EsLKwzBvKCAe"
      }
    },
    {
      "cell_type": "code",
      "source": [
        "#definindo variáveis\n",
        "carac_df = data.dropna(subset=[\n",
        "    'streams', 'danceability', 'energy', 'valence',\n",
        "    'acousticness', 'instrumentalness', 'liveness', 'speechiness'\n",
        "])\n",
        "X_carac = carac_df[['danceability', 'energy', 'valence', 'acousticness',\n",
        "                    'instrumentalness', 'liveness', 'speechiness']]\n",
        "X_carac = sm.add_constant(X_carac)\n",
        "y_carac = carac_df['streams']\n",
        "\n",
        "\n",
        "modelo_carac = sm.OLS(y_carac, X_carac).fit()\n",
        "print(\"\\n🔹 Hipótese 5 - Características da música vs Streams\")\n",
        "print(modelo_carac.summary())\n"
      ],
      "metadata": {
        "id": "86lr7FddtbZZ"
      },
      "execution_count": null,
      "outputs": []
    },
    {
      "cell_type": "markdown",
      "source": [
        "A análise de regressão linear múltipla indicou que algumas características sonoras estão significativamente associadas ao número de streams. O valor de R² do modelo foi satisfatório, e variáveis como `danceability` e `energy` apresentaram p-valores estatisticamente significativos. Concluímos que sim, o perfil sonoro de uma faixa pode influenciar diretamente seu desempenho na plataforma.\n"
      ],
      "metadata": {
        "id": "nvJzzoj_tkqN"
      }
    },
    {
      "cell_type": "markdown",
      "source": [
        "\n",
        "\n",
        "> Com base nas análises estatísticas e modelos aplicados, observamos que fatores como presença em playlists, distribuição em plataformas, volume de produção dos artistas e características sonoras estão todos relacionados, em maior ou menor grau, ao sucesso de uma música em termos de streams. Por outro lado, aspectos como o BPM ou a tonalidade mostraram pouca ou nenhuma influência significativa.\n",
        "Essas evidências contribuem para entender o que realmente impulsiona a popularidade de faixas no Spotify, reforçando a importância de estratégias de exposição e perfis sonoros que engajem o público.\n"
      ],
      "metadata": {
        "id": "0nV4tFNFKOja"
      }
    },
    {
      "cell_type": "markdown",
      "source": [
        "## **Modelo preditivo: o que influencia o número de streams?**"
      ],
      "metadata": {
        "id": "DEcf6152tmQA"
      }
    },
    {
      "cell_type": "markdown",
      "source": [
        "Nesta etapa do projeto, construímos um modelo preditivo utilizando **regressão linear múltipla** para entender quais variáveis mais influenciam o sucesso de uma música em termos de streams.\n",
        "\n",
        "Foram utilizadas como variáveis explicativas:\n",
        "- Características sonoras: `bpm`, `danceability`, `energy`, `valence`, `acousticness`, `instrumentalness`, `liveness`, `speechiness`\n",
        "- Visibilidade: `total_playlists`, `in_spotify_charts`, `in_apple_charts`, `in_deezer_charts`\n",
        "\n",
        "O objetivo foi avaliar a contribuição conjunta dessas variáveis e identificar quais têm maior peso estatístico no desempenho de uma faixa.\n"
      ],
      "metadata": {
        "id": "1ErWBSGkt_9m"
      }
    },
    {
      "cell_type": "code",
      "source": [
        "#  MODELO PREDITIVO\n",
        "full_df = data.dropna(subset=[\n",
        "    'streams', 'bpm', 'danceability', 'energy', 'valence', 'acousticness',\n",
        "    'instrumentalness', 'liveness', 'speechiness', 'total_playlists',\n",
        "    'in_spotify_charts', 'in_apple_charts', 'in_deezer_charts',\n",
        "])\n",
        "X_full = full_df[[\n",
        "    'bpm', 'danceability', 'energy', 'valence', 'acousticness',\n",
        "    'instrumentalness', 'liveness', 'speechiness', 'total_playlists',\n",
        "    'in_spotify_charts', 'in_apple_charts', 'in_deezer_charts',\n",
        "]]\n",
        "X_full = sm.add_constant(X_full)\n",
        "y_full = full_df['streams']\n",
        "\n",
        "\n",
        "modelo_full = sm.OLS(y_full, X_full).fit()\n",
        "print(\"\\n🔹 Modelo preditivo com todas as variáveis:\")\n",
        "print(modelo_full.summary())\n"
      ],
      "metadata": {
        "colab": {
          "base_uri": "https://localhost:8080/"
        },
        "id": "vCP726-E4wX4",
        "outputId": "4ff2ca87-7709-4989-96e1-86b5451f4e52"
      },
      "execution_count": null,
      "outputs": [
        {
          "output_type": "stream",
          "name": "stdout",
          "text": [
            "\n",
            "🔹 Modelo preditivo com todas as variáveis:\n",
            "                            OLS Regression Results                            \n",
            "==============================================================================\n",
            "Dep. Variable:                streams   R-squared:                       0.644\n",
            "Model:                            OLS   Adj. R-squared:                  0.640\n",
            "Method:                 Least Squares   F-statistic:                     141.2\n",
            "Date:                Sat, 19 Apr 2025   Prob (F-statistic):          1.98e-200\n",
            "Time:                        20:22:54   Log-Likelihood:                -19985.\n",
            "No. Observations:                 949   AIC:                         4.000e+04\n",
            "Df Residuals:                     936   BIC:                         4.006e+04\n",
            "Df Model:                          12                                         \n",
            "Covariance Type:            nonrobust                                         \n",
            "=====================================================================================\n",
            "                        coef    std err          t      P>|t|      [0.025      0.975]\n",
            "-------------------------------------------------------------------------------------\n",
            "const              3.052e+08   1.05e+08      2.906      0.004    9.91e+07    5.11e+08\n",
            "bpm                1.637e+05   4.04e+05      0.405      0.686    -6.3e+05    9.58e+05\n",
            "danceability      -2.053e+05   8.99e+05     -0.228      0.820   -1.97e+06    1.56e+06\n",
            "energy             -1.79e+06   8.97e+05     -1.994      0.046   -3.55e+06   -2.86e+04\n",
            "valence           -4.163e+05   5.67e+05     -0.735      0.463   -1.53e+06    6.96e+05\n",
            "acousticness       5.194e+05   5.47e+05      0.950      0.342   -5.54e+05    1.59e+06\n",
            "instrumentalness    -2.1e+06   1.34e+06     -1.570      0.117   -4.73e+06    5.26e+05\n",
            "liveness          -2.564e+05   8.22e+05     -0.312      0.755   -1.87e+06    1.36e+06\n",
            "speechiness       -1.427e+06   1.16e+06     -1.234      0.218    -3.7e+06    8.43e+05\n",
            "total_playlists    4.781e+04   1312.917     36.417      0.000    4.52e+04    5.04e+04\n",
            "in_spotify_charts  1.286e+06   7.89e+05      1.630      0.103   -2.62e+05    2.83e+06\n",
            "in_apple_charts    8.362e+05   2.72e+05      3.079      0.002    3.03e+05    1.37e+06\n",
            "in_deezer_charts   6.934e+06   2.33e+06      2.970      0.003    2.35e+06    1.15e+07\n",
            "==============================================================================\n",
            "Omnibus:                      192.239   Durbin-Watson:                   1.602\n",
            "Prob(Omnibus):                  0.000   Jarque-Bera (JB):             1379.271\n",
            "Skew:                           0.722   Prob(JB):                    3.13e-300\n",
            "Kurtosis:                       8.727   Cond. No.                     9.97e+04\n",
            "==============================================================================\n",
            "\n",
            "Notes:\n",
            "[1] Standard Errors assume that the covariance matrix of the errors is correctly specified.\n",
            "[2] The condition number is large, 9.97e+04. This might indicate that there are\n",
            "strong multicollinearity or other numerical problems.\n"
          ]
        }
      ]
    },
    {
      "cell_type": "markdown",
      "source": [
        "O modelo apresentou um **bom ajuste (R² = 0.644)**, explicando cerca de 64% da variância no número de streams. A variável `total_playlists` foi a mais significativa, confirmando a importância da presença em playlists para a popularidade das faixas.\n",
        "\n",
        "Aparecer em rankings como os da Apple e Deezer também contribui positivamente, enquanto o nível de `energy` apresentou uma relação negativa, o que pode indicar que músicas mais intensas nem sempre são mais populares.\n",
        "\n",
        "**Conclusão:**  \n",
        "Embora características sonoras tenham algum peso, são os aspectos de visibilidade e distribuição que mais influenciam o sucesso das músicas no Spotify. Isso reforça a importância das estratégias de posicionamento e marketing digital no cenário musical atual.\n"
      ],
      "metadata": {
        "id": "qOXb059qW3nE"
      }
    },
    {
      "cell_type": "markdown",
      "source": [
        "#**Outras Hipóteses**"
      ],
      "metadata": {
        "id": "oxsR_OL5X6RU"
      }
    },
    {
      "cell_type": "markdown",
      "source": [
        "\n",
        "\n",
        "Além das hipóteses previamente formuladas, também exploramos outras relações presentes no dataset, com o objetivo de enriquecer as interpretações e entender melhor os fatores que podem estar relacionados ao sucesso das músicas.\n",
        "\n",
        "Nesta seção, buscamos responder perguntas como:\n",
        "- Há diferença no desempenho entre músicas lançadas em anos diferentes?\n",
        "- Artistas com maior produção têm mais streams?\n",
        "- Colaborações impactam o alcance das faixas?\n",
        "- Quais fatores explicam a quantidade de playlists em que uma música aparece?\n",
        "\n",
        "As análises a seguir combinam testes estatísticos, comparações entre grupos e regressões para oferecer insights mais amplos e apoiar a construção do modelo preditivo.\n"
      ],
      "metadata": {
        "id": "8lri7G8AWDOq"
      }
    },
    {
      "cell_type": "markdown",
      "source": [
        "## Há diferença no desempenho entre músicas lançadas em anos diferentes?"
      ],
      "metadata": {
        "id": "0AWQa0-9a3c1"
      }
    },
    {
      "cell_type": "markdown",
      "source": [
        "Uma das hipóteses confirmadas ao longo do projeto foi que a presença em playlists está fortemente associada ao número de streams. Nesta análise, buscamos verificar se essa relação se mantém ao longo do tempo, mais especificamente para músicas lançadas entre 2019 e 2023.\n",
        "\n",
        "Para isso, calculamos a correlação de Spearman entre `total_playlists` e `streams` separadamente para cada ano.\n"
      ],
      "metadata": {
        "id": "HK2iVBOBWcSZ"
      }
    },
    {
      "cell_type": "code",
      "source": [
        "# 1. Garante que a coluna de datas está em formato de data\n",
        "data['data_lancamento'] = pd.to_datetime(data['data_lancamento'], errors='coerce')\n",
        "\n",
        "# 2. Criar uma nova coluna com apenas o ano da data de lançamento\n",
        "data['ano_lancamento'] = data['data_lancamento'].dt.year\n",
        "\n",
        "# 3. Função que calcula a correlação entre duas variáveis, filtrando por ano\n",
        "def correlacao_por_ano(data, ano):\n",
        "    # Filtra o DataFrame apenas para músicas lançadas no ano desejado\n",
        "    data_ano = data[data['ano_lancamento'] == ano]\n",
        "\n",
        "    # Seleciona apenas as colunas relevantes e remove linhas com dados ausentes\n",
        "    data_ano = data_ano[['total_playlists', 'streams']].dropna()\n",
        "\n",
        "    # Garante que há dados suficientes para calcular correlação\n",
        "    if len(data_ano) > 1:\n",
        "        # Calcula a correlação de Pearson entre playlists e streams\n",
        "        correlacao = data_ano['total_playlists'].corr(data_ano['streams'])\n",
        "    else:\n",
        "        correlacao = None  # Se não houver dados suficientes, retorna None\n",
        "\n",
        "    return correlacao\n",
        "\n",
        "# 4. Definindo os anos de análise\n",
        "anos = [2019, 2020, 2021, 2022, 2023]\n",
        "\n",
        "# 5. Aplica a função para cada ano da lista, criando um dicionário com os resultados\n",
        "correlacoes = {ano: correlacao_por_ano(data, ano) for ano in anos}\n",
        "\n",
        "# 6. Exibir\n",
        "correlacoes\n"
      ],
      "metadata": {
        "colab": {
          "base_uri": "https://localhost:8080/"
        },
        "id": "d_yGMoIKbLMQ",
        "outputId": "43fbaf2f-9134-4a82-f181-7e7675232111"
      },
      "execution_count": null,
      "outputs": [
        {
          "output_type": "execute_result",
          "data": {
            "text/plain": [
              "{2019: np.float64(0.9348058239083757),\n",
              " 2020: np.float64(0.8950431312433469),\n",
              " 2021: np.float64(0.8327010985279325),\n",
              " 2022: np.float64(0.8253557233238437),\n",
              " 2023: np.float64(0.784606122311256)}"
            ]
          },
          "metadata": {},
          "execution_count": 6
        }
      ]
    },
    {
      "cell_type": "markdown",
      "source": [
        "A correlação entre a presença em playlists e o número de streams foi **forte e estatisticamente significativa em todos os anos analisados**.\n",
        "\n",
        "Apesar de uma leve queda nos coeficientes ao longo do tempo, possivelmente devido à maior rotatividade nas plataformas e à explosão de novos lançamentos, a relação continua sólida.\n",
        "\n",
        "**Conclusão:**  \n",
        "O impacto das playlists no sucesso das músicas permanece forte, mesmo com as mudanças nos padrões de consumo e algoritmos ao longo dos anos.\n"
      ],
      "metadata": {
        "id": "A7DRZYGcWfIG"
      }
    },
    {
      "cell_type": "markdown",
      "source": [
        "##O ano de lançamento influencia o número médio de streams?"
      ],
      "metadata": {
        "id": "b0Bw3jX0i1IG"
      }
    },
    {
      "cell_type": "markdown",
      "source": [
        "O objetivo desta análise foi investigar se o ano em que uma música foi lançada tem impacto sobre o seu desempenho em número de streams.\n",
        "\n",
        "Como os dados de `streams` por ano não seguem distribuição normal, optamos por utilizar o **teste de Kruskal-Wallis**, que permite comparar múltiplos grupos sem assumir normalidade.\n",
        "\n",
        "Após identificar uma diferença significativa entre os anos, aplicamos o **teste de Dunn com correção de Bonferroni** para descobrir quais pares de anos diferem entre si.\n"
      ],
      "metadata": {
        "id": "IQy7U7dGYGGo"
      }
    },
    {
      "cell_type": "code",
      "source": [
        "# 1. Garante que 'data_lancamento' está como datetime\n",
        "data['data_lancamento'] = pd.to_datetime(data['data_lancamento'], errors='coerce')\n",
        "\n",
        "# 2. Cria a coluna com o ano de lançamento\n",
        "data['ano_lancamento'] = data['data_lancamento'].dt.year\n",
        "\n",
        "# 3. Conta quantas músicas existem por ano\n",
        "contagem_por_ano = data.groupby('ano_lancamento')['streams'].count()\n",
        "\n",
        "# 4. Filtra apenas anos com pelo menos 5 músicas\n",
        "anos_filtrados = contagem_por_ano[contagem_por_ano >= 5].index.tolist()\n",
        "\n",
        "# 5. Cria os grupos de streams por ano\n",
        "grupos_streams = [data[data['ano_lancamento'] == ano]['streams'].dropna() for ano in anos_filtrados]\n",
        "\n",
        "# 6. Aplica o teste de Kruskal-Wallis\n",
        "stat, p = kruskal(*grupos_streams)\n",
        "\n",
        "# 7. Mostra os resultados\n",
        "print(\"Teste de Kruskal-Wallis\")\n",
        "print(\"Anos analisados:\", anos_filtrados)\n",
        "print(\"Estatística:\", stat)\n",
        "print(\"p-valor:\", p)\n",
        "\n",
        "# 8. Interpretação\n",
        "if p < 0.05:\n",
        "    print(\"Existe diferença significativa no número de streams entre os anos.\")\n",
        "else:\n",
        "    print(\"Não há diferença significativa entre os anos.\")\n",
        "\n"
      ],
      "metadata": {
        "colab": {
          "base_uri": "https://localhost:8080/"
        },
        "id": "PXLYBvp5i3re",
        "outputId": "b32a50fa-6b4d-41a4-d1af-4654acaf4b7c"
      },
      "execution_count": null,
      "outputs": [
        {
          "output_type": "stream",
          "name": "stdout",
          "text": [
            "Teste de Kruskal-Wallis\n",
            "Anos analisados: [1999, 2002, 2010, 2011, 2012, 2013, 2014, 2015, 2016, 2017, 2018, 2019, 2020, 2021, 2022, 2023]\n",
            "Estatística: 443.9481624760148\n",
            "p-valor: 3.8865147690111595e-85\n",
            "Existe diferença significativa no número de streams entre os anos.\n"
          ]
        }
      ]
    },
    {
      "cell_type": "code",
      "source": [
        "# 1. Agrupa e calcula a média e mediana de streams por ano\n",
        "resumo_por_ano = data[data['ano_lancamento'].isin(anos_filtrados)].groupby('ano_lancamento')['streams'].agg(['mean', 'median', 'count']).reset_index()\n",
        "\n",
        "# 2. Visualiza com boxplot\n",
        "plt.figure(figsize=(14,6))\n",
        "sns.boxplot(x='ano_lancamento', y='streams', data=data[data['ano_lancamento'].isin(anos_filtrados)])\n",
        "plt.title('Distribuição de Streams por Ano de Lançamento')\n",
        "plt.xticks(rotation=45)\n",
        "plt.grid(True)\n",
        "plt.show()\n",
        "\n",
        "# 3. Teste de comparações múltiplas (Dunn test com correção de Bonferroni)\n",
        "# Filtrando apenas os dados necessários\n",
        "dados_dunn = data[data['ano_lancamento'].isin(anos_filtrados)][['ano_lancamento', 'streams']].dropna()\n",
        "\n",
        "# Aplicando o teste de Dunn\n",
        "dunn_result = sp.posthoc_dunn(dados_dunn, val_col='streams', group_col='ano_lancamento', p_adjust='bonferroni')\n",
        "\n",
        "# 4. Mostra os anos e a média para contexto\n",
        "print(\"📊 Média de streams por ano:\")\n",
        "print(resumo_por_ano)\n",
        "\n",
        "# 5. Resultado da matriz do teste de Dunn (p-valores entre os anos)\n",
        "dunn_result\n"
      ],
      "metadata": {
        "colab": {
          "base_uri": "https://localhost:8080/",
          "height": 1000
        },
        "id": "BSzR7pBbkACD",
        "outputId": "ad23e7a3-e5d6-47be-a75e-d802804e96d8"
      },
      "execution_count": null,
      "outputs": [
        {
          "output_type": "stream",
          "name": "stdout",
          "text": [
            "Collecting scikit-posthocs\n",
            "  Downloading scikit_posthocs-0.11.4-py3-none-any.whl.metadata (5.8 kB)\n",
            "Requirement already satisfied: numpy in /usr/local/lib/python3.11/dist-packages (from scikit-posthocs) (2.0.2)\n",
            "Requirement already satisfied: scipy>=1.9.0 in /usr/local/lib/python3.11/dist-packages (from scikit-posthocs) (1.14.1)\n",
            "Requirement already satisfied: statsmodels in /usr/local/lib/python3.11/dist-packages (from scikit-posthocs) (0.14.4)\n",
            "Requirement already satisfied: pandas>=0.20.0 in /usr/local/lib/python3.11/dist-packages (from scikit-posthocs) (2.2.2)\n",
            "Requirement already satisfied: seaborn in /usr/local/lib/python3.11/dist-packages (from scikit-posthocs) (0.13.2)\n",
            "Requirement already satisfied: matplotlib in /usr/local/lib/python3.11/dist-packages (from scikit-posthocs) (3.10.0)\n",
            "Requirement already satisfied: python-dateutil>=2.8.2 in /usr/local/lib/python3.11/dist-packages (from pandas>=0.20.0->scikit-posthocs) (2.8.2)\n",
            "Requirement already satisfied: pytz>=2020.1 in /usr/local/lib/python3.11/dist-packages (from pandas>=0.20.0->scikit-posthocs) (2025.2)\n",
            "Requirement already satisfied: tzdata>=2022.7 in /usr/local/lib/python3.11/dist-packages (from pandas>=0.20.0->scikit-posthocs) (2025.2)\n",
            "Requirement already satisfied: contourpy>=1.0.1 in /usr/local/lib/python3.11/dist-packages (from matplotlib->scikit-posthocs) (1.3.2)\n",
            "Requirement already satisfied: cycler>=0.10 in /usr/local/lib/python3.11/dist-packages (from matplotlib->scikit-posthocs) (0.12.1)\n",
            "Requirement already satisfied: fonttools>=4.22.0 in /usr/local/lib/python3.11/dist-packages (from matplotlib->scikit-posthocs) (4.57.0)\n",
            "Requirement already satisfied: kiwisolver>=1.3.1 in /usr/local/lib/python3.11/dist-packages (from matplotlib->scikit-posthocs) (1.4.8)\n",
            "Requirement already satisfied: packaging>=20.0 in /usr/local/lib/python3.11/dist-packages (from matplotlib->scikit-posthocs) (24.2)\n",
            "Requirement already satisfied: pillow>=8 in /usr/local/lib/python3.11/dist-packages (from matplotlib->scikit-posthocs) (11.1.0)\n",
            "Requirement already satisfied: pyparsing>=2.3.1 in /usr/local/lib/python3.11/dist-packages (from matplotlib->scikit-posthocs) (3.2.3)\n",
            "Requirement already satisfied: patsy>=0.5.6 in /usr/local/lib/python3.11/dist-packages (from statsmodels->scikit-posthocs) (1.0.1)\n",
            "Requirement already satisfied: six>=1.5 in /usr/local/lib/python3.11/dist-packages (from python-dateutil>=2.8.2->pandas>=0.20.0->scikit-posthocs) (1.17.0)\n",
            "Downloading scikit_posthocs-0.11.4-py3-none-any.whl (33 kB)\n",
            "Installing collected packages: scikit-posthocs\n",
            "Successfully installed scikit-posthocs-0.11.4\n"
          ]
        },
        {
          "output_type": "display_data",
          "data": {
            "text/plain": [
              "<Figure size 1400x600 with 1 Axes>"
            ],
            "image/png": "[encoded data removed]"
          },
          "metadata": {}
        },
        {
          "output_type": "stream",
          "name": "stdout",
          "text": [
            "📊 Média de streams por ano:\n",
            "    ano_lancamento          mean        median  count\n",
            "0             1999  1.080616e+09  9.189154e+08      5\n",
            "1             2002  1.446620e+09  1.647914e+09      6\n",
            "2             2010  1.081406e+09  1.062957e+09      7\n",
            "3             2011  9.363213e+08  8.955997e+08     10\n",
            "4             2012  1.341534e+09  1.480307e+09     10\n",
            "5             2013  1.220192e+09  1.267333e+09     13\n",
            "6             2014  1.264047e+09  1.131091e+09     13\n",
            "7             2015  9.937214e+08  8.244202e+08     11\n",
            "8             2016  1.124608e+09  7.455364e+08     18\n",
            "9             2017  1.367723e+09  1.047101e+09     23\n",
            "10            2018  1.503052e+09  1.287695e+09     10\n",
            "11            2019  1.051970e+09  8.039283e+08     36\n",
            "12            2020  9.379387e+08  8.120196e+08     37\n",
            "13            2021  6.243851e+08  5.052937e+08    118\n",
            "14            2022  2.873816e+08  2.217529e+08    399\n",
            "15            2023  1.474771e+08  1.077538e+08    175\n"
          ]
        },
        {
          "output_type": "execute_result",
          "data": {
            "text/plain": [
              "          1999      2002      2010          2011          2012          2013  \\\n",
              "1999  1.000000  1.000000  1.000000  1.000000e+00  1.000000e+00  1.000000e+00   \n",
              "2002  1.000000  1.000000  1.000000  1.000000e+00  1.000000e+00  1.000000e+00   \n",
              "2010  1.000000  1.000000  1.000000  1.000000e+00  1.000000e+00  1.000000e+00   \n",
              "2011  1.000000  1.000000  1.000000  1.000000e+00  1.000000e+00  1.000000e+00   \n",
              "2012  1.000000  1.000000  1.000000  1.000000e+00  1.000000e+00  1.000000e+00   \n",
              "2013  1.000000  1.000000  1.000000  1.000000e+00  1.000000e+00  1.000000e+00   \n",
              "2014  1.000000  1.000000  1.000000  1.000000e+00  1.000000e+00  1.000000e+00   \n",
              "2015  1.000000  1.000000  1.000000  1.000000e+00  1.000000e+00  1.000000e+00   \n",
              "2016  1.000000  1.000000  1.000000  1.000000e+00  1.000000e+00  1.000000e+00   \n",
              "2017  1.000000  1.000000  1.000000  1.000000e+00  1.000000e+00  1.000000e+00   \n",
              "2018  1.000000  1.000000  1.000000  1.000000e+00  1.000000e+00  1.000000e+00   \n",
              "2019  1.000000  1.000000  1.000000  1.000000e+00  1.000000e+00  1.000000e+00   \n",
              "2020  1.000000  1.000000  1.000000  1.000000e+00  1.000000e+00  1.000000e+00   \n",
              "2021  1.000000  1.000000  1.000000  1.000000e+00  1.000000e+00  1.000000e+00   \n",
              "2022  0.102453  0.005283  0.011646  7.831824e-03  1.217426e-03  3.587031e-04   \n",
              "2023  0.000228  0.000002  0.000003  2.997748e-07  2.177337e-08  7.403539e-10   \n",
              "\n",
              "              2014          2015          2016          2017          2018  \\\n",
              "1999  1.000000e+00  1.000000e+00  1.000000e+00  1.000000e+00  1.000000e+00   \n",
              "2002  1.000000e+00  1.000000e+00  1.000000e+00  1.000000e+00  1.000000e+00   \n",
              "2010  1.000000e+00  1.000000e+00  1.000000e+00  1.000000e+00  1.000000e+00   \n",
              "2011  1.000000e+00  1.000000e+00  1.000000e+00  1.000000e+00  1.000000e+00   \n",
              "2012  1.000000e+00  1.000000e+00  1.000000e+00  1.000000e+00  1.000000e+00   \n",
              "2013  1.000000e+00  1.000000e+00  1.000000e+00  1.000000e+00  1.000000e+00   \n",
              "2014  1.000000e+00  1.000000e+00  1.000000e+00  1.000000e+00  1.000000e+00   \n",
              "2015  1.000000e+00  1.000000e+00  1.000000e+00  1.000000e+00  1.000000e+00   \n",
              "2016  1.000000e+00  1.000000e+00  1.000000e+00  1.000000e+00  1.000000e+00   \n",
              "2017  1.000000e+00  1.000000e+00  1.000000e+00  1.000000e+00  1.000000e+00   \n",
              "2018  1.000000e+00  1.000000e+00  1.000000e+00  1.000000e+00  1.000000e+00   \n",
              "2019  1.000000e+00  1.000000e+00  1.000000e+00  1.000000e+00  1.000000e+00   \n",
              "2020  1.000000e+00  1.000000e+00  1.000000e+00  1.000000e+00  1.000000e+00   \n",
              "2021  1.000000e+00  1.000000e+00  1.000000e+00  1.000000e+00  1.000000e+00   \n",
              "2022  5.559255e-06  4.831777e-03  1.102036e-04  9.421038e-09  5.135627e-05   \n",
              "2023  2.348335e-12  8.714615e-08  1.169925e-11  2.379771e-18  2.891006e-10   \n",
              "\n",
              "              2019          2020          2021          2022          2023  \n",
              "1999  1.000000e+00  1.000000e+00  1.000000e+00  1.024531e-01  2.281332e-04  \n",
              "2002  1.000000e+00  1.000000e+00  1.000000e+00  5.282523e-03  2.081430e-06  \n",
              "2010  1.000000e+00  1.000000e+00  1.000000e+00  1.164617e-02  3.098300e-06  \n",
              "2011  1.000000e+00  1.000000e+00  1.000000e+00  7.831824e-03  2.997748e-07  \n",
              "2012  1.000000e+00  1.000000e+00  1.000000e+00  1.217426e-03  2.177337e-08  \n",
              "2013  1.000000e+00  1.000000e+00  1.000000e+00  3.587031e-04  7.403539e-10  \n",
              "2014  1.000000e+00  1.000000e+00  1.000000e+00  5.559255e-06  2.348335e-12  \n",
              "2015  1.000000e+00  1.000000e+00  1.000000e+00  4.831777e-03  8.714615e-08  \n",
              "2016  1.000000e+00  1.000000e+00  1.000000e+00  1.102036e-04  1.169925e-11  \n",
              "2017  1.000000e+00  1.000000e+00  1.000000e+00  9.421038e-09  2.379771e-18  \n",
              "2018  1.000000e+00  1.000000e+00  1.000000e+00  5.135627e-05  2.891006e-10  \n",
              "2019  1.000000e+00  1.000000e+00  1.000000e+00  1.490177e-09  1.117591e-21  \n",
              "2020  1.000000e+00  1.000000e+00  1.000000e+00  4.049831e-10  1.300709e-22  \n",
              "2021  1.000000e+00  1.000000e+00  1.000000e+00  3.131188e-14  3.976109e-35  \n",
              "2022  1.490177e-09  4.049831e-10  3.131188e-14  1.000000e+00  4.046090e-11  \n",
              "2023  1.117591e-21  1.300709e-22  3.976109e-35  4.046090e-11  1.000000e+00  "
            ],
            "text/html": [
              "\n",
              "  <div id=\"df-42adf937-f552-486f-84ab-8afc3a8790a0\" class=\"colab-df-container\">\n",
              "    <div>\n",
              "<style scoped>\n",
              "    .dataframe tbody tr th:only-of-type {\n",
              "        vertical-align: middle;\n",
              "    }\n",
              "\n",
              "    .dataframe tbody tr th {\n",
              "        vertical-align: top;\n",
              "    }\n",
              "\n",
              "    .dataframe thead th {\n",
              "        text-align: right;\n",
              "    }\n",
              "</style>\n",
              "<table border=\"1\" class=\"dataframe\">\n",
              "  <thead>\n",
              "    <tr style=\"text-align: right;\">\n",
              "      <th></th>\n",
              "      <th>1999</th>\n",
              "      <th>2002</th>\n",
              "      <th>2010</th>\n",
              "      <th>2011</th>\n",
              "      <th>2012</th>\n",
              "      <th>2013</th>\n",
              "      <th>2014</th>\n",
              "      <th>2015</th>\n",
              "      <th>2016</th>\n",
              "      <th>2017</th>\n",
              "      <th>2018</th>\n",
              "      <th>2019</th>\n",
              "      <th>2020</th>\n",
              "      <th>2021</th>\n",
              "      <th>2022</th>\n",
              "      <th>2023</th>\n",
              "    </tr>\n",
              "  </thead>\n",
              "  <tbody>\n",
              "    <tr>\n",
              "      <th>1999</th>\n",
              "      <td>1.000000</td>\n",
              "      <td>1.000000</td>\n",
              "      <td>1.000000</td>\n",
              "      <td>1.000000e+00</td>\n",
              "      <td>1.000000e+00</td>\n",
              "      <td>1.000000e+00</td>\n",
              "      <td>1.000000e+00</td>\n",
              "      <td>1.000000e+00</td>\n",
              "      <td>1.000000e+00</td>\n",
              "      <td>1.000000e+00</td>\n",
              "      <td>1.000000e+00</td>\n",
              "      <td>1.000000e+00</td>\n",
              "      <td>1.000000e+00</td>\n",
              "      <td>1.000000e+00</td>\n",
              "      <td>1.024531e-01</td>\n",
              "      <td>2.281332e-04</td>\n",
              "    </tr>\n",
              "    <tr>\n",
              "      <th>2002</th>\n",
              "      <td>1.000000</td>\n",
              "      <td>1.000000</td>\n",
              "      <td>1.000000</td>\n",
              "      <td>1.000000e+00</td>\n",
              "      <td>1.000000e+00</td>\n",
              "      <td>1.000000e+00</td>\n",
              "      <td>1.000000e+00</td>\n",
              "      <td>1.000000e+00</td>\n",
              "      <td>1.000000e+00</td>\n",
              "      <td>1.000000e+00</td>\n",
              "      <td>1.000000e+00</td>\n",
              "      <td>1.000000e+00</td>\n",
              "      <td>1.000000e+00</td>\n",
              "      <td>1.000000e+00</td>\n",
              "      <td>5.282523e-03</td>\n",
              "      <td>2.081430e-06</td>\n",
              "    </tr>\n",
              "    <tr>\n",
              "      <th>2010</th>\n",
              "      <td>1.000000</td>\n",
              "      <td>1.000000</td>\n",
              "      <td>1.000000</td>\n",
              "      <td>1.000000e+00</td>\n",
              "      <td>1.000000e+00</td>\n",
              "      <td>1.000000e+00</td>\n",
              "      <td>1.000000e+00</td>\n",
              "      <td>1.000000e+00</td>\n",
              "      <td>1.000000e+00</td>\n",
              "      <td>1.000000e+00</td>\n",
              "      <td>1.000000e+00</td>\n",
              "      <td>1.000000e+00</td>\n",
              "      <td>1.000000e+00</td>\n",
              "      <td>1.000000e+00</td>\n",
              "      <td>1.164617e-02</td>\n",
              "      <td>3.098300e-06</td>\n",
              "    </tr>\n",
              "    <tr>\n",
              "      <th>2011</th>\n",
              "      <td>1.000000</td>\n",
              "      <td>1.000000</td>\n",
              "      <td>1.000000</td>\n",
              "      <td>1.000000e+00</td>\n",
              "      <td>1.000000e+00</td>\n",
              "      <td>1.000000e+00</td>\n",
              "      <td>1.000000e+00</td>\n",
              "      <td>1.000000e+00</td>\n",
              "      <td>1.000000e+00</td>\n",
              "      <td>1.000000e+00</td>\n",
              "      <td>1.000000e+00</td>\n",
              "      <td>1.000000e+00</td>\n",
              "      <td>1.000000e+00</td>\n",
              "      <td>1.000000e+00</td>\n",
              "      <td>7.831824e-03</td>\n",
              "      <td>2.997748e-07</td>\n",
              "    </tr>\n",
              "    <tr>\n",
              "      <th>2012</th>\n",
              "      <td>1.000000</td>\n",
              "      <td>1.000000</td>\n",
              "      <td>1.000000</td>\n",
              "      <td>1.000000e+00</td>\n",
              "      <td>1.000000e+00</td>\n",
              "      <td>1.000000e+00</td>\n",
              "      <td>1.000000e+00</td>\n",
              "      <td>1.000000e+00</td>\n",
              "      <td>1.000000e+00</td>\n",
              "      <td>1.000000e+00</td>\n",
              "      <td>1.000000e+00</td>\n",
              "      <td>1.000000e+00</td>\n",
              "      <td>1.000000e+00</td>\n",
              "      <td>1.000000e+00</td>\n",
              "      <td>1.217426e-03</td>\n",
              "      <td>2.177337e-08</td>\n",
              "    </tr>\n",
              "    <tr>\n",
              "      <th>2013</th>\n",
              "      <td>1.000000</td>\n",
              "      <td>1.000000</td>\n",
              "      <td>1.000000</td>\n",
              "      <td>1.000000e+00</td>\n",
              "      <td>1.000000e+00</td>\n",
              "      <td>1.000000e+00</td>\n",
              "      <td>1.000000e+00</td>\n",
              "      <td>1.000000e+00</td>\n",
              "      <td>1.000000e+00</td>\n",
              "      <td>1.000000e+00</td>\n",
              "      <td>1.000000e+00</td>\n",
              "      <td>1.000000e+00</td>\n",
              "      <td>1.000000e+00</td>\n",
              "      <td>1.000000e+00</td>\n",
              "      <td>3.587031e-04</td>\n",
              "      <td>7.403539e-10</td>\n",
              "    </tr>\n",
              "    <tr>\n",
              "      <th>2014</th>\n",
              "      <td>1.000000</td>\n",
              "      <td>1.000000</td>\n",
              "      <td>1.000000</td>\n",
              "      <td>1.000000e+00</td>\n",
              "      <td>1.000000e+00</td>\n",
              "      <td>1.000000e+00</td>\n",
              "      <td>1.000000e+00</td>\n",
              "      <td>1.000000e+00</td>\n",
              "      <td>1.000000e+00</td>\n",
              "      <td>1.000000e+00</td>\n",
              "      <td>1.000000e+00</td>\n",
              "      <td>1.000000e+00</td>\n",
              "      <td>1.000000e+00</td>\n",
              "      <td>1.000000e+00</td>\n",
              "      <td>5.559255e-06</td>\n",
              "      <td>2.348335e-12</td>\n",
              "    </tr>\n",
              "    <tr>\n",
              "      <th>2015</th>\n",
              "      <td>1.000000</td>\n",
              "      <td>1.000000</td>\n",
              "      <td>1.000000</td>\n",
              "      <td>1.000000e+00</td>\n",
              "      <td>1.000000e+00</td>\n",
              "      <td>1.000000e+00</td>\n",
              "      <td>1.000000e+00</td>\n",
              "      <td>1.000000e+00</td>\n",
              "      <td>1.000000e+00</td>\n",
              "      <td>1.000000e+00</td>\n",
              "      <td>1.000000e+00</td>\n",
              "      <td>1.000000e+00</td>\n",
              "      <td>1.000000e+00</td>\n",
              "      <td>1.000000e+00</td>\n",
              "      <td>4.831777e-03</td>\n",
              "      <td>8.714615e-08</td>\n",
              "    </tr>\n",
              "    <tr>\n",
              "      <th>2016</th>\n",
              "      <td>1.000000</td>\n",
              "      <td>1.000000</td>\n",
              "      <td>1.000000</td>\n",
              "      <td>1.000000e+00</td>\n",
              "      <td>1.000000e+00</td>\n",
              "      <td>1.000000e+00</td>\n",
              "      <td>1.000000e+00</td>\n",
              "      <td>1.000000e+00</td>\n",
              "      <td>1.000000e+00</td>\n",
              "      <td>1.000000e+00</td>\n",
              "      <td>1.000000e+00</td>\n",
              "      <td>1.000000e+00</td>\n",
              "      <td>1.000000e+00</td>\n",
              "      <td>1.000000e+00</td>\n",
              "      <td>1.102036e-04</td>\n",
              "      <td>1.169925e-11</td>\n",
              "    </tr>\n",
              "    <tr>\n",
              "      <th>2017</th>\n",
              "      <td>1.000000</td>\n",
              "      <td>1.000000</td>\n",
              "      <td>1.000000</td>\n",
              "      <td>1.000000e+00</td>\n",
              "      <td>1.000000e+00</td>\n",
              "      <td>1.000000e+00</td>\n",
              "      <td>1.000000e+00</td>\n",
              "      <td>1.000000e+00</td>\n",
              "      <td>1.000000e+00</td>\n",
              "      <td>1.000000e+00</td>\n",
              "      <td>1.000000e+00</td>\n",
              "      <td>1.000000e+00</td>\n",
              "      <td>1.000000e+00</td>\n",
              "      <td>1.000000e+00</td>\n",
              "      <td>9.421038e-09</td>\n",
              "      <td>2.379771e-18</td>\n",
              "    </tr>\n",
              "    <tr>\n",
              "      <th>2018</th>\n",
              "      <td>1.000000</td>\n",
              "      <td>1.000000</td>\n",
              "      <td>1.000000</td>\n",
              "      <td>1.000000e+00</td>\n",
              "      <td>1.000000e+00</td>\n",
              "      <td>1.000000e+00</td>\n",
              "      <td>1.000000e+00</td>\n",
              "      <td>1.000000e+00</td>\n",
              "      <td>1.000000e+00</td>\n",
              "      <td>1.000000e+00</td>\n",
              "      <td>1.000000e+00</td>\n",
              "      <td>1.000000e+00</td>\n",
              "      <td>1.000000e+00</td>\n",
              "      <td>1.000000e+00</td>\n",
              "      <td>5.135627e-05</td>\n",
              "      <td>2.891006e-10</td>\n",
              "    </tr>\n",
              "    <tr>\n",
              "      <th>2019</th>\n",
              "      <td>1.000000</td>\n",
              "      <td>1.000000</td>\n",
              "      <td>1.000000</td>\n",
              "      <td>1.000000e+00</td>\n",
              "      <td>1.000000e+00</td>\n",
              "      <td>1.000000e+00</td>\n",
              "      <td>1.000000e+00</td>\n",
              "      <td>1.000000e+00</td>\n",
              "      <td>1.000000e+00</td>\n",
              "      <td>1.000000e+00</td>\n",
              "      <td>1.000000e+00</td>\n",
              "      <td>1.000000e+00</td>\n",
              "      <td>1.000000e+00</td>\n",
              "      <td>1.000000e+00</td>\n",
              "      <td>1.490177e-09</td>\n",
              "      <td>1.117591e-21</td>\n",
              "    </tr>\n",
              "    <tr>\n",
              "      <th>2020</th>\n",
              "      <td>1.000000</td>\n",
              "      <td>1.000000</td>\n",
              "      <td>1.000000</td>\n",
              "      <td>1.000000e+00</td>\n",
              "      <td>1.000000e+00</td>\n",
              "      <td>1.000000e+00</td>\n",
              "      <td>1.000000e+00</td>\n",
              "      <td>1.000000e+00</td>\n",
              "      <td>1.000000e+00</td>\n",
              "      <td>1.000000e+00</td>\n",
              "      <td>1.000000e+00</td>\n",
              "      <td>1.000000e+00</td>\n",
              "      <td>1.000000e+00</td>\n",
              "      <td>1.000000e+00</td>\n",
              "      <td>4.049831e-10</td>\n",
              "      <td>1.300709e-22</td>\n",
              "    </tr>\n",
              "    <tr>\n",
              "      <th>2021</th>\n",
              "      <td>1.000000</td>\n",
              "      <td>1.000000</td>\n",
              "      <td>1.000000</td>\n",
              "      <td>1.000000e+00</td>\n",
              "      <td>1.000000e+00</td>\n",
              "      <td>1.000000e+00</td>\n",
              "      <td>1.000000e+00</td>\n",
              "      <td>1.000000e+00</td>\n",
              "      <td>1.000000e+00</td>\n",
              "      <td>1.000000e+00</td>\n",
              "      <td>1.000000e+00</td>\n",
              "      <td>1.000000e+00</td>\n",
              "      <td>1.000000e+00</td>\n",
              "      <td>1.000000e+00</td>\n",
              "      <td>3.131188e-14</td>\n",
              "      <td>3.976109e-35</td>\n",
              "    </tr>\n",
              "    <tr>\n",
              "      <th>2022</th>\n",
              "      <td>0.102453</td>\n",
              "      <td>0.005283</td>\n",
              "      <td>0.011646</td>\n",
              "      <td>7.831824e-03</td>\n",
              "      <td>1.217426e-03</td>\n",
              "      <td>3.587031e-04</td>\n",
              "      <td>5.559255e-06</td>\n",
              "      <td>4.831777e-03</td>\n",
              "      <td>1.102036e-04</td>\n",
              "      <td>9.421038e-09</td>\n",
              "      <td>5.135627e-05</td>\n",
              "      <td>1.490177e-09</td>\n",
              "      <td>4.049831e-10</td>\n",
              "      <td>3.131188e-14</td>\n",
              "      <td>1.000000e+00</td>\n",
              "      <td>4.046090e-11</td>\n",
              "    </tr>\n",
              "    <tr>\n",
              "      <th>2023</th>\n",
              "      <td>0.000228</td>\n",
              "      <td>0.000002</td>\n",
              "      <td>0.000003</td>\n",
              "      <td>2.997748e-07</td>\n",
              "      <td>2.177337e-08</td>\n",
              "      <td>7.403539e-10</td>\n",
              "      <td>2.348335e-12</td>\n",
              "      <td>8.714615e-08</td>\n",
              "      <td>1.169925e-11</td>\n",
              "      <td>2.379771e-18</td>\n",
              "      <td>2.891006e-10</td>\n",
              "      <td>1.117591e-21</td>\n",
              "      <td>1.300709e-22</td>\n",
              "      <td>3.976109e-35</td>\n",
              "      <td>4.046090e-11</td>\n",
              "      <td>1.000000e+00</td>\n",
              "    </tr>\n",
              "  </tbody>\n",
              "</table>\n",
              "</div>\n",
              "    <div class=\"colab-df-buttons\">\n",
              "\n",
              "  <div class=\"colab-df-container\">\n",
              "    <button class=\"colab-df-convert\" onclick=\"convertToInteractive('df-42adf937-f552-486f-84ab-8afc3a8790a0')\"\n",
              "            title=\"Convert this dataframe to an interactive table.\"\n",
              "            style=\"display:none;\">\n",
              "\n",
              "  <svg xmlns=\"http://www.w3.org/2000/svg\" height=\"24px\" viewBox=\"0 -960 960 960\">\n",
              "    <path d=\"M120-120v-720h720v720H120Zm60-500h600v-160H180v160Zm220 220h160v-160H400v160Zm0 220h160v-160H400v160ZM180-400h160v-160H180v160Zm440 0h160v-160H620v160ZM180-180h160v-160H180v160Zm440 0h160v-160H620v160Z\"/>\n",
              "  </svg>\n",
              "    </button>\n",
              "\n",
              "  <style>\n",
              "    .colab-df-container {\n",
              "      display:flex;\n",
              "      gap: 12px;\n",
              "    }\n",
              "\n",
              "    .colab-df-convert {\n",
              "      background-color: #E8F0FE;\n",
              "      border: none;\n",
              "      border-radius: 50%;\n",
              "      cursor: pointer;\n",
              "      display: none;\n",
              "      fill: #1967D2;\n",
              "      height: 32px;\n",
              "      padding: 0 0 0 0;\n",
              "      width: 32px;\n",
              "    }\n",
              "\n",
              "    .colab-df-convert:hover {\n",
              "      background-color: #E2EBFA;\n",
              "      box-shadow: 0px 1px 2px rgba(60, 64, 67, 0.3), 0px 1px 3px 1px rgba(60, 64, 67, 0.15);\n",
              "      fill: #174EA6;\n",
              "    }\n",
              "\n",
              "    .colab-df-buttons div {\n",
              "      margin-bottom: 4px;\n",
              "    }\n",
              "\n",
              "    [theme=dark] .colab-df-convert {\n",
              "      background-color: #3B4455;\n",
              "      fill: #D2E3FC;\n",
              "    }\n",
              "\n",
              "    [theme=dark] .colab-df-convert:hover {\n",
              "      background-color: #434B5C;\n",
              "      box-shadow: 0px 1px 3px 1px rgba(0, 0, 0, 0.15);\n",
              "      filter: drop-shadow(0px 1px 2px rgba(0, 0, 0, 0.3));\n",
              "      fill: #FFFFFF;\n",
              "    }\n",
              "  </style>\n",
              "\n",
              "    <script>\n",
              "      const buttonEl =\n",
              "        document.querySelector('#df-42adf937-f552-486f-84ab-8afc3a8790a0 button.colab-df-convert');\n",
              "      buttonEl.style.display =\n",
              "        google.colab.kernel.accessAllowed ? 'block' : 'none';\n",
              "\n",
              "      async function convertToInteractive(key) {\n",
              "        const element = document.querySelector('#df-42adf937-f552-486f-84ab-8afc3a8790a0');\n",
              "        const dataTable =\n",
              "          await google.colab.kernel.invokeFunction('convertToInteractive',\n",
              "                                                    [key], {});\n",
              "        if (!dataTable) return;\n",
              "\n",
              "        const docLinkHtml = 'Like what you see? Visit the ' +\n",
              "          '<a target=\"_blank\" href=https://colab.research.google.com/notebooks/data_table.ipynb>data table notebook</a>'\n",
              "          + ' to learn more about interactive tables.';\n",
              "        element.innerHTML = '';\n",
              "        dataTable['output_type'] = 'display_data';\n",
              "        await google.colab.output.renderOutput(dataTable, element);\n",
              "        const docLink = document.createElement('div');\n",
              "        docLink.innerHTML = docLinkHtml;\n",
              "        element.appendChild(docLink);\n",
              "      }\n",
              "    </script>\n",
              "  </div>\n",
              "\n",
              "\n",
              "<div id=\"df-1b762b7b-4d2e-4be8-a7ad-a2134dffb8f3\">\n",
              "  <button class=\"colab-df-quickchart\" onclick=\"quickchart('df-1b762b7b-4d2e-4be8-a7ad-a2134dffb8f3')\"\n",
              "            title=\"Suggest charts\"\n",
              "            style=\"display:none;\">\n",
              "\n",
              "<svg xmlns=\"http://www.w3.org/2000/svg\" height=\"24px\"viewBox=\"0 0 24 24\"\n",
              "     width=\"24px\">\n",
              "    <g>\n",
              "        <path d=\"M19 3H5c-1.1 0-2 .9-2 2v14c0 1.1.9 2 2 2h14c1.1 0 2-.9 2-2V5c0-1.1-.9-2-2-2zM9 17H7v-7h2v7zm4 0h-2V7h2v10zm4 0h-2v-4h2v4z\"/>\n",
              "    </g>\n",
              "</svg>\n",
              "  </button>\n",
              "\n",
              "<style>\n",
              "  .colab-df-quickchart {\n",
              "      --bg-color: #E8F0FE;\n",
              "      --fill-color: #1967D2;\n",
              "      --hover-bg-color: #E2EBFA;\n",
              "      --hover-fill-color: #174EA6;\n",
              "      --disabled-fill-color: #AAA;\n",
              "      --disabled-bg-color: #DDD;\n",
              "  }\n",
              "\n",
              "  [theme=dark] .colab-df-quickchart {\n",
              "      --bg-color: #3B4455;\n",
              "      --fill-color: #D2E3FC;\n",
              "      --hover-bg-color: #434B5C;\n",
              "      --hover-fill-color: #FFFFFF;\n",
              "      --disabled-bg-color: #3B4455;\n",
              "      --disabled-fill-color: #666;\n",
              "  }\n",
              "\n",
              "  .colab-df-quickchart {\n",
              "    background-color: var(--bg-color);\n",
              "    border: none;\n",
              "    border-radius: 50%;\n",
              "    cursor: pointer;\n",
              "    display: none;\n",
              "    fill: var(--fill-color);\n",
              "    height: 32px;\n",
              "    padding: 0;\n",
              "    width: 32px;\n",
              "  }\n",
              "\n",
              "  .colab-df-quickchart:hover {\n",
              "    background-color: var(--hover-bg-color);\n",
              "    box-shadow: 0 1px 2px rgba(60, 64, 67, 0.3), 0 1px 3px 1px rgba(60, 64, 67, 0.15);\n",
              "    fill: var(--button-hover-fill-color);\n",
              "  }\n",
              "\n",
              "  .colab-df-quickchart-complete:disabled,\n",
              "  .colab-df-quickchart-complete:disabled:hover {\n",
              "    background-color: var(--disabled-bg-color);\n",
              "    fill: var(--disabled-fill-color);\n",
              "    box-shadow: none;\n",
              "  }\n",
              "\n",
              "  .colab-df-spinner {\n",
              "    border: 2px solid var(--fill-color);\n",
              "    border-color: transparent;\n",
              "    border-bottom-color: var(--fill-color);\n",
              "    animation:\n",
              "      spin 1s steps(1) infinite;\n",
              "  }\n",
              "\n",
              "  @keyframes spin {\n",
              "    0% {\n",
              "      border-color: transparent;\n",
              "      border-bottom-color: var(--fill-color);\n",
              "      border-left-color: var(--fill-color);\n",
              "    }\n",
              "    20% {\n",
              "      border-color: transparent;\n",
              "      border-left-color: var(--fill-color);\n",
              "      border-top-color: var(--fill-color);\n",
              "    }\n",
              "    30% {\n",
              "      border-color: transparent;\n",
              "      border-left-color: var(--fill-color);\n",
              "      border-top-color: var(--fill-color);\n",
              "      border-right-color: var(--fill-color);\n",
              "    }\n",
              "    40% {\n",
              "      border-color: transparent;\n",
              "      border-right-color: var(--fill-color);\n",
              "      border-top-color: var(--fill-color);\n",
              "    }\n",
              "    60% {\n",
              "      border-color: transparent;\n",
              "      border-right-color: var(--fill-color);\n",
              "    }\n",
              "    80% {\n",
              "      border-color: transparent;\n",
              "      border-right-color: var(--fill-color);\n",
              "      border-bottom-color: var(--fill-color);\n",
              "    }\n",
              "    90% {\n",
              "      border-color: transparent;\n",
              "      border-bottom-color: var(--fill-color);\n",
              "    }\n",
              "  }\n",
              "</style>\n",
              "\n",
              "  <script>\n",
              "    async function quickchart(key) {\n",
              "      const quickchartButtonEl =\n",
              "        document.querySelector('#' + key + ' button');\n",
              "      quickchartButtonEl.disabled = true;  // To prevent multiple clicks.\n",
              "      quickchartButtonEl.classList.add('colab-df-spinner');\n",
              "      try {\n",
              "        const charts = await google.colab.kernel.invokeFunction(\n",
              "            'suggestCharts', [key], {});\n",
              "      } catch (error) {\n",
              "        console.error('Error during call to suggestCharts:', error);\n",
              "      }\n",
              "      quickchartButtonEl.classList.remove('colab-df-spinner');\n",
              "      quickchartButtonEl.classList.add('colab-df-quickchart-complete');\n",
              "    }\n",
              "    (() => {\n",
              "      let quickchartButtonEl =\n",
              "        document.querySelector('#df-1b762b7b-4d2e-4be8-a7ad-a2134dffb8f3 button');\n",
              "      quickchartButtonEl.style.display =\n",
              "        google.colab.kernel.accessAllowed ? 'block' : 'none';\n",
              "    })();\n",
              "  </script>\n",
              "</div>\n",
              "\n",
              "  <div id=\"id_b432f0bd-f930-45e4-b52d-d3d75c63ad9c\">\n",
              "    <style>\n",
              "      .colab-df-generate {\n",
              "        background-color: #E8F0FE;\n",
              "        border: none;\n",
              "        border-radius: 50%;\n",
              "        cursor: pointer;\n",
              "        display: none;\n",
              "        fill: #1967D2;\n",
              "        height: 32px;\n",
              "        padding: 0 0 0 0;\n",
              "        width: 32px;\n",
              "      }\n",
              "\n",
              "      .colab-df-generate:hover {\n",
              "        background-color: #E2EBFA;\n",
              "        box-shadow: 0px 1px 2px rgba(60, 64, 67, 0.3), 0px 1px 3px 1px rgba(60, 64, 67, 0.15);\n",
              "        fill: #174EA6;\n",
              "      }\n",
              "\n",
              "      [theme=dark] .colab-df-generate {\n",
              "        background-color: #3B4455;\n",
              "        fill: #D2E3FC;\n",
              "      }\n",
              "\n",
              "      [theme=dark] .colab-df-generate:hover {\n",
              "        background-color: #434B5C;\n",
              "        box-shadow: 0px 1px 3px 1px rgba(0, 0, 0, 0.15);\n",
              "        filter: drop-shadow(0px 1px 2px rgba(0, 0, 0, 0.3));\n",
              "        fill: #FFFFFF;\n",
              "      }\n",
              "    </style>\n",
              "    <button class=\"colab-df-generate\" onclick=\"generateWithVariable('dunn_result')\"\n",
              "            title=\"Generate code using this dataframe.\"\n",
              "            style=\"display:none;\">\n",
              "\n",
              "  <svg xmlns=\"http://www.w3.org/2000/svg\" height=\"24px\"viewBox=\"0 0 24 24\"\n",
              "       width=\"24px\">\n",
              "    <path d=\"M7,19H8.4L18.45,9,17,7.55,7,17.6ZM5,21V16.75L18.45,3.32a2,2,0,0,1,2.83,0l1.4,1.43a1.91,1.91,0,0,1,.58,1.4,1.91,1.91,0,0,1-.58,1.4L9.25,21ZM18.45,9,17,7.55Zm-12,3A5.31,5.31,0,0,0,4.9,8.1,5.31,5.31,0,0,0,1,6.5,5.31,5.31,0,0,0,4.9,4.9,5.31,5.31,0,0,0,6.5,1,5.31,5.31,0,0,0,8.1,4.9,5.31,5.31,0,0,0,12,6.5,5.46,5.46,0,0,0,6.5,12Z\"/>\n",
              "  </svg>\n",
              "    </button>\n",
              "    <script>\n",
              "      (() => {\n",
              "      const buttonEl =\n",
              "        document.querySelector('#id_b432f0bd-f930-45e4-b52d-d3d75c63ad9c button.colab-df-generate');\n",
              "      buttonEl.style.display =\n",
              "        google.colab.kernel.accessAllowed ? 'block' : 'none';\n",
              "\n",
              "      buttonEl.onclick = () => {\n",
              "        google.colab.notebook.generateWithVariable('dunn_result');\n",
              "      }\n",
              "      })();\n",
              "    </script>\n",
              "  </div>\n",
              "\n",
              "    </div>\n",
              "  </div>\n"
            ],
            "application/vnd.google.colaboratory.intrinsic+json": {
              "type": "dataframe",
              "variable_name": "dunn_result",
              "summary": "{\n  \"name\": \"dunn_result\",\n  \"rows\": 16,\n  \"fields\": [\n    {\n      \"column\": 1999,\n      \"properties\": {\n        \"dtype\": \"number\",\n        \"std\": 0.324565925128847,\n        \"min\": 0.00022813319895574906,\n        \"max\": 1.0,\n        \"num_unique_values\": 3,\n        \"samples\": [\n          1.0,\n          0.10245308112675539,\n          0.00022813319895574906\n        ],\n        \"semantic_type\": \"\",\n        \"description\": \"\"\n      }\n    },\n    {\n      \"column\": 2002,\n      \"properties\": {\n        \"dtype\": \"number\",\n        \"std\": 0.3406638716160147,\n        \"min\": 2.0814302635781418e-06,\n        \"max\": 1.0,\n        \"num_unique_values\": 3,\n        \"samples\": [\n          1.0,\n          0.005282523283995515,\n          2.0814302635781418e-06\n        ],\n        \"semantic_type\": \"\",\n        \"description\": \"\"\n      }\n    },\n    {\n      \"column\": 2010,\n      \"properties\": {\n        \"dtype\": \"number\",\n        \"std\": 0.3395821870944018,\n        \"min\": 3.0983001960332265e-06,\n        \"max\": 1.0,\n        \"num_unique_values\": 3,\n        \"samples\": [\n          1.0,\n          0.011646173062163508,\n          3.0983001960332265e-06\n        ],\n        \"semantic_type\": \"\",\n        \"description\": \"\"\n      }\n    },\n    {\n      \"column\": 2011,\n      \"properties\": {\n        \"dtype\": \"number\",\n        \"std\": 0.34023044030004707,\n        \"min\": 2.9977482760626736e-07,\n        \"max\": 1.0,\n        \"num_unique_values\": 3,\n        \"samples\": [\n          1.0,\n          0.00783182363964694,\n          2.9977482760626736e-07\n        ],\n        \"semantic_type\": \"\",\n        \"description\": \"\"\n      }\n    },\n    {\n      \"column\": 2012,\n      \"properties\": {\n        \"dtype\": \"number\",\n        \"std\": 0.34135717911835217,\n        \"min\": 2.177337427160358e-08,\n        \"max\": 1.0,\n        \"num_unique_values\": 3,\n        \"samples\": [\n          1.0,\n          0.0012174259152535742,\n          2.177337427160358e-08\n        ],\n        \"semantic_type\": \"\",\n        \"description\": \"\"\n      }\n    },\n    {\n      \"column\": 2013,\n      \"properties\": {\n        \"dtype\": \"number\",\n        \"std\": 0.3415037714660615,\n        \"min\": 7.403538710943194e-10,\n        \"max\": 1.0,\n        \"num_unique_values\": 3,\n        \"samples\": [\n          1.0,\n          0.0003587031127808695,\n          7.403538710943194e-10\n        ],\n        \"semantic_type\": \"\",\n        \"description\": \"\"\n      }\n    },\n    {\n      \"column\": 2014,\n      \"properties\": {\n        \"dtype\": \"number\",\n        \"std\": 0.3415640761095447,\n        \"min\": 2.3483345635798707e-12,\n        \"max\": 1.0,\n        \"num_unique_values\": 3,\n        \"samples\": [\n          1.0,\n          5.55925506368252e-06,\n          2.3483345635798707e-12\n        ],\n        \"semantic_type\": \"\",\n        \"description\": \"\"\n      }\n    },\n    {\n      \"column\": 2015,\n      \"properties\": {\n        \"dtype\": \"number\",\n        \"std\": 0.34074096954026095,\n        \"min\": 8.714615315543909e-08,\n        \"max\": 1.0,\n        \"num_unique_values\": 3,\n        \"samples\": [\n          1.0,\n          0.004831776875191539,\n          8.714615315543909e-08\n        ],\n        \"semantic_type\": \"\",\n        \"description\": \"\"\n      }\n    },\n    {\n      \"column\": 2016,\n      \"properties\": {\n        \"dtype\": \"number\",\n        \"std\": 0.3415462052755901,\n        \"min\": 1.1699249221694233e-11,\n        \"max\": 1.0,\n        \"num_unique_values\": 3,\n        \"samples\": [\n          1.0,\n          0.00011020359598527952,\n          1.1699249221694233e-11\n        ],\n        \"semantic_type\": \"\",\n        \"description\": \"\"\n      }\n    },\n    {\n      \"column\": 2017,\n      \"properties\": {\n        \"dtype\": \"number\",\n        \"std\": 0.34156502392303817,\n        \"min\": 2.3797707626059247e-18,\n        \"max\": 1.0,\n        \"num_unique_values\": 3,\n        \"samples\": [\n          1.0,\n          9.42103750634998e-09,\n          2.3797707626059247e-18\n        ],\n        \"semantic_type\": \"\",\n        \"description\": \"\"\n      }\n    },\n    {\n      \"column\": 2018,\n      \"properties\": {\n        \"dtype\": \"number\",\n        \"std\": 0.341556254859132,\n        \"min\": 2.8910064632699224e-10,\n        \"max\": 1.0,\n        \"num_unique_values\": 3,\n        \"samples\": [\n          1.0,\n          5.135626614363552e-05,\n          2.8910064632699224e-10\n        ],\n        \"semantic_type\": \"\",\n        \"description\": \"\"\n      }\n    },\n    {\n      \"column\": 2019,\n      \"properties\": {\n        \"dtype\": \"number\",\n        \"std\": 0.34156502527749044,\n        \"min\": 1.1175911680173919e-21,\n        \"max\": 1.0,\n        \"num_unique_values\": 3,\n        \"samples\": [\n          1.0,\n          1.4901769777467947e-09,\n          1.1175911680173919e-21\n        ],\n        \"semantic_type\": \"\",\n        \"description\": \"\"\n      }\n    },\n    {\n      \"column\": 2020,\n      \"properties\": {\n        \"dtype\": \"number\",\n        \"std\": 0.3415650254628226,\n        \"min\": 1.300709173423008e-22,\n        \"max\": 1.0,\n        \"num_unique_values\": 3,\n        \"samples\": [\n          1.0,\n          4.0498311311728823e-10,\n          1.300709173423008e-22\n        ],\n        \"semantic_type\": \"\",\n        \"description\": \"\"\n      }\n    },\n    {\n      \"column\": 2021,\n      \"properties\": {\n        \"dtype\": \"number\",\n        \"std\": 0.34156502553198126,\n        \"min\": 3.976108621475292e-35,\n        \"max\": 1.0,\n        \"num_unique_values\": 3,\n        \"samples\": [\n          1.0,\n          3.131188215098722e-14,\n          3.976108621475292e-35\n        ],\n        \"semantic_type\": \"\",\n        \"description\": \"\"\n      }\n    },\n    {\n      \"column\": 2022,\n      \"properties\": {\n        \"dtype\": \"number\",\n        \"std\": 0.2490520948465191,\n        \"min\": 3.131188215098722e-14,\n        \"max\": 1.0,\n        \"num_unique_values\": 16,\n        \"samples\": [\n          0.10245308112675539,\n          0.005282523283995515,\n          0.0003587031127808695\n        ],\n        \"semantic_type\": \"\",\n        \"description\": \"\"\n      }\n    },\n    {\n      \"column\": 2023,\n      \"properties\": {\n        \"dtype\": \"number\",\n        \"std\": 0.24999611107724262,\n        \"min\": 3.976108621475292e-35,\n        \"max\": 1.0,\n        \"num_unique_values\": 16,\n        \"samples\": [\n          0.00022813319895574906,\n          2.0814302635781418e-06,\n          7.403538710943194e-10\n        ],\n        \"semantic_type\": \"\",\n        \"description\": \"\"\n      }\n    }\n  ]\n}"
            }
          },
          "metadata": {},
          "execution_count": 10
        }
      ]
    },
    {
      "cell_type": "markdown",
      "source": [
        "Os resultados mostram que o **ano de lançamento influencia significativamente o número médio de streams**.\n",
        "\n",
        "Em geral, músicas lançadas em anos anteriores (como 2018 ou 2020) acumulam muito mais streams do que as mais recentes (2022–2023). Isso pode ser atribuído ao tempo de exposição, alcance em playlists ao longo dos anos e à rotatividade mais intensa no mercado musical atual.\n",
        "\n",
        "**Conclusão:**  \n",
        "A hipótese foi confirmada: o ano de lançamento é um fator que impacta diretamente o volume de streams, com desvantagem clara para faixas mais recentes.\n"
      ],
      "metadata": {
        "id": "OtQh4zX0kqVy"
      }
    },
    {
      "cell_type": "markdown",
      "source": [
        "##Músicas com colaborações (feat) têm, em média, mais streams do que músicas solo?"
      ],
      "metadata": {
        "id": "_xjiPAX1ar8W"
      }
    },
    {
      "cell_type": "markdown",
      "source": [
        "Nesta análise, buscamos avaliar se músicas com mais de um artista (colaborações) possuem, em média, mais streams do que músicas solo.\n",
        "\n",
        "Essa hipótese parte da ideia de que colaborações podem atrair públicos de diferentes fanbases e ampliar o alcance das faixas. Para isso, comparamos os dois grupos com o **teste de Mann-Whitney U**, adequado quando os dados não seguem distribuição normal.\n"
      ],
      "metadata": {
        "id": "KsEN3x_3Y7ZD"
      }
    },
    {
      "cell_type": "code",
      "source": [
        "# 1. Separação dos grupos\n",
        "solo = data[data['artist_count'] == 1]['streams'].dropna()\n",
        "colab = data[data['artist_count'] > 1]['streams'].dropna()\n",
        "\n",
        "# 2. Estatísticas descritivas\n",
        "print(\"Estatísticas descritivas de streams:\")\n",
        "print(\"\\nMúsicas solo:\")\n",
        "print(solo.describe())\n",
        "print(\"\\nMúsicas com colaboração:\")\n",
        "print(colab.describe())\n",
        "\n",
        "# 3. Visualização com boxplot\n",
        "plt.figure(figsize=(10,6))\n",
        "sns.boxplot(data=[solo, colab], notch=True)\n",
        "plt.xticks([0,1], ['Solo', 'Colab'])\n",
        "plt.ylabel('Streams')\n",
        "plt.title('Distribuição de Streams - Solo vs Colab')\n",
        "plt.grid(True)\n",
        "plt.show()\n",
        "\n",
        "# 4. Teste de Mann-Whitney (não-paramétrico)\n",
        "u_stat, p_val = mannwhitneyu(colab, solo, alternative='two-sided')\n",
        "\n",
        "print(\"\\nTeste de Mann-Whitney\")\n",
        "print(\"Estatística U:\", u_stat)\n",
        "print(\"p-valor:\", p_val)\n",
        "\n",
        "# 5. Cálculo do tamanho do efeito (r de Mann-Whitney)\n",
        "n1 = len(solo)\n",
        "n2 = len(colab)\n",
        "z = (u_stat - (n1*n2/2)) / np.sqrt((n1*n2*(n1+n2+1))/12)  # Z-score aproximado\n",
        "r = abs(z) / np.sqrt(n1 + n2)\n",
        "\n",
        "print(\"\\nTamanho do efeito (r):\", round(r, 4))\n",
        "if r < 0.1:\n",
        "    interpretacao = \"efeito muito pequeno\"\n",
        "elif r < 0.3:\n",
        "    interpretacao = \"efeito pequeno\"\n",
        "elif r < 0.5:\n",
        "    interpretacao = \"efeito médio\"\n",
        "else:\n",
        "    interpretacao = \"efeito grande\"\n",
        "\n",
        "print(\"Interpretação:\", interpretacao)\n"
      ],
      "metadata": {
        "colab": {
          "base_uri": "https://localhost:8080/"
        },
        "id": "W8EdaZu6YOPO",
        "outputId": "1524b22c-1246-49fb-8a55-9df6a5eb078f"
      },
      "execution_count": null,
      "outputs": [
        {
          "output_type": "stream",
          "name": "stdout",
          "text": [
            "Estatísticas descritivas de streams:\n",
            "\n",
            "Músicas solo:\n",
            "count    5.830000e+02\n",
            "mean     5.679318e+08\n",
            "std      5.952141e+08\n",
            "min      0.000000e+00\n",
            "25%      1.668232e+08\n",
            "50%      3.325064e+08\n",
            "75%      7.972992e+08\n",
            "max      3.703895e+09\n",
            "Name: streams, dtype: float64\n",
            "\n",
            "Músicas com colaboração:\n",
            "count    3.660000e+02\n",
            "mean     4.275595e+08\n",
            "std      5.100355e+08\n",
            "min      2.762000e+03\n",
            "25%      1.155595e+08\n",
            "50%      2.368647e+08\n",
            "75%      5.403036e+08\n",
            "max      2.808097e+09\n",
            "Name: streams, dtype: float64\n"
          ]
        },
        {
          "output_type": "display_data",
          "data": {
            "text/plain": [
              "<Figure size 1000x600 with 1 Axes>"
            ],
            "image/png": "[encoded data removed]"
          },
          "metadata": {}
        },
        {
          "output_type": "stream",
          "name": "stdout",
          "text": [
            "\n",
            "Teste de Mann-Whitney\n",
            "Estatística U: 88309.0\n",
            "p-valor: 7.754405960490766e-06\n",
            "\n",
            "Tamanho do efeito (r): 0.1452\n",
            "Interpretação: efeito pequeno\n"
          ]
        }
      ]
    },
    {
      "cell_type": "markdown",
      "source": [
        "Embora a expectativa fosse que colaborações tivessem mais alcance, os dados mostram o contrário: **músicas solo, em média, acumulam mais streams**.\n",
        "\n",
        "Essa diferença pode ser explicada por uma série de fatores:\n",
        "- Maior número de músicas solo no dataset\n",
        "- Artistas solo mais consolidados\n",
        "- Tipo de distribuição e marketing\n",
        "\n",
        "**Conclusão:**  \n",
        "A hipótese foi refutada. No conjunto analisado, colaborações não superaram músicas solo em termos de streams.\n",
        "\n",
        "\n"
      ],
      "metadata": {
        "id": "-CE1M28ocvIk"
      }
    },
    {
      "cell_type": "markdown",
      "source": [
        "##Músicas com colaboração aparecem mais em playlists?"
      ],
      "metadata": {
        "id": "i2p4M-ZZoP6E"
      }
    },
    {
      "cell_type": "markdown",
      "source": [
        "Colaborações musicais muitas vezes reúnem artistas de públicos distintos, o que pode aumentar a atratividade da faixa para curadores de playlists. Com base nessa ideia, testamos se músicas com mais de um artista aparecem, em média, em mais playlists do que músicas solo.\n",
        "\n",
        "Utilizamos o **teste de Mann-Whitney U** para comparar a variável `total_playlists` entre os dois grupos.\n"
      ],
      "metadata": {
        "id": "qqqUWCywZSBj"
      }
    },
    {
      "cell_type": "code",
      "source": [
        "# 1. Separa os dois grupos\n",
        "solo = data[data['artist_count'] == 1]['total_playlists'].dropna()\n",
        "colab = data[data['artist_count'] > 1]['total_playlists'].dropna()\n",
        "\n",
        "# 2. Aplica o teste de Mann-Whitney\n",
        "stat, p = mannwhitneyu(solo, colab, alternative='two-sided')\n",
        "\n",
        "print(\"Teste de Mann-Whitney - Total de playlists (Solo vs Colab)\")\n",
        "print(\"Estatística U:\", stat)\n",
        "print(\"p-valor:\", p)\n",
        "\n",
        "if p < 0.05:\n",
        "    print(\"Músicas com colaboração aparecem significativamente mais/menos em playlists.\")\n",
        "else:\n",
        "    print(\"Não há diferença significativa entre os grupos.\")\n"
      ],
      "metadata": {
        "colab": {
          "base_uri": "https://localhost:8080/"
        },
        "id": "Br0VhTJOtkR_",
        "outputId": "f5837f6b-aac0-4d37-b279-2eb6f5066542"
      },
      "execution_count": null,
      "outputs": [
        {
          "output_type": "stream",
          "name": "stdout",
          "text": [
            "Teste de Mann-Whitney - Total de playlists (Solo vs Colab)\n",
            "Estatística U: 120357.5\n",
            "p-valor: 0.0008825497827376481\n",
            "Músicas com colaboração aparecem significativamente mais/menos em playlists.\n"
          ]
        }
      ]
    },
    {
      "cell_type": "markdown",
      "source": [
        "O teste de Mann-Whitney mostrou que existe uma diferença significativa no número de playlists em que músicas solo e com colaboração aparecem.\n",
        "\n",
        "Mas o teste não diz qual grupo tem mais."
      ],
      "metadata": {
        "id": "D2MBmzqOtsAP"
      }
    },
    {
      "cell_type": "code",
      "source": [
        "# Estatísticas descritivas de total_playlists por tipo de música\n",
        "solo_playlists = data[data['artist_count'] == 1]['total_playlists']\n",
        "colab_playlists = data[data['artist_count'] > 1]['total_playlists']\n",
        "\n",
        "print(\"Músicas Solo\")\n",
        "print(\"Média:\", solo_playlists.mean())\n",
        "print(\"Mediana:\", solo_playlists.median())\n",
        "\n",
        "print(\"\\nMúsicas com Colaboração\")\n",
        "print(\"Média:\", colab_playlists.mean())\n",
        "print(\"Mediana:\", colab_playlists.median())\n"
      ],
      "metadata": {
        "colab": {
          "base_uri": "https://localhost:8080/"
        },
        "id": "z11IY05zt2Ey",
        "outputId": "1de874fc-b1f9-4c68-fa94-a91f482a5354"
      },
      "execution_count": null,
      "outputs": [
        {
          "output_type": "stream",
          "name": "stdout",
          "text": [
            "Músicas Solo\n",
            "Média: 6310.938250428817\n",
            "Mediana: 2575.0\n",
            "\n",
            "Músicas com Colaboração\n",
            "Média: 4570.55737704918\n",
            "Mediana: 1708.5\n"
          ]
        }
      ]
    },
    {
      "cell_type": "markdown",
      "source": [
        "Os resultados indicam que **músicas solo aparecem, em média, em mais playlists** do que músicas com colaborações.\n",
        "\n",
        "Apesar de colaborações envolverem mais artistas e potenciais públicos, fatores como curadoria, foco em artistas principais e estratégias editoriais podem favorecer faixas solo.\n",
        "\n",
        "**Conclusão:**  \n",
        "A hipótese foi refutada. No dataset analisado, músicas solo estão mais presentes em playlists do que colaborações.\n"
      ],
      "metadata": {
        "id": "rZT5ej8OuEit"
      }
    },
    {
      "cell_type": "markdown",
      "source": [
        "##Quais fatores explicam a quantidade de playlists em que uma música aparece?"
      ],
      "metadata": {
        "id": "2ymNZ91gvE6O"
      }
    },
    {
      "cell_type": "markdown",
      "source": [
        "Estar em playlists é um dos principais impulsionadores de sucesso no Spotify e outras plataformas. Com isso, buscamos entender **quais características explicam a presença de uma música em playlists**.\n",
        "\n",
        "Aplicamos uma **regressão linear múltipla** com `total_playlists` como variável dependente, e características como `acousticness`, `energy`, `artist_count` e `ano_lancamento` como preditores.\n"
      ],
      "metadata": {
        "id": "UewVUzD3Z665"
      }
    },
    {
      "cell_type": "code",
      "source": [
        "# Garantindo que a coluna de data está em formato datetime\n",
        "data['data_lancamento'] = pd.to_datetime(data['data_lancamento'], errors='coerce')\n",
        "data['ano_lancamento'] = data['data_lancamento'].dt.year\n",
        "\n",
        "# Selecionando variáveis explicativas\n",
        "variaveis = [\n",
        "    'danceability', 'energy', 'valence', 'acousticness',\n",
        "    'instrumentalness', 'liveness', 'speechiness',\n",
        "    'artist_count', 'ano_lancamento'\n",
        "]\n",
        "\n",
        "# Criando novo DataFrame para o modelo\n",
        "df_modelo = data[variaveis + ['total_playlists']].dropna()\n",
        "\n",
        "# Aplicando log na variável dependente (log1p lida com valores zero)\n",
        "df_modelo['log_total_playlists'] = np.log1p(df_modelo['total_playlists'])\n",
        "\n",
        "# Separando variáveis preditoras e resposta\n",
        "X = sm.add_constant(df_modelo[variaveis])  # adiciona intercepto\n",
        "y = df_modelo['log_total_playlists']\n",
        "\n",
        "# Ajustando modelo de regressão linear\n",
        "modelo = sm.OLS(y, X).fit()\n",
        "\n",
        "# Exibindo sumário completo do modelo\n",
        "print(modelo.summary())\n",
        "\n",
        "# Visualização dos coeficientes (exceto intercepto)\n",
        "coef = modelo.params.drop('const').sort_values()\n",
        "\n",
        "plt.figure(figsize=(10, 6))\n",
        "sns.barplot(x=coef.values, y=coef.index)\n",
        "plt.title('Importância das Variáveis na Previsão de log(total_playlists)')\n",
        "plt.xlabel('Coeficiente da Regressão')\n",
        "plt.ylabel('Variável')\n",
        "plt.grid(True)\n",
        "plt.tight_layout()\n",
        "plt.show()\n"
      ],
      "metadata": {
        "colab": {
          "base_uri": "https://localhost:8080/",
          "height": 1000
        },
        "id": "k0Rka_BLvHPv",
        "outputId": "e71f1c00-b5bd-4f01-9f84-947276086409"
      },
      "execution_count": null,
      "outputs": [
        {
          "output_type": "stream",
          "name": "stdout",
          "text": [
            "                             OLS Regression Results                            \n",
            "===============================================================================\n",
            "Dep. Variable:     log_total_playlists   R-squared:                       0.162\n",
            "Model:                             OLS   Adj. R-squared:                  0.154\n",
            "Method:                  Least Squares   F-statistic:                     20.12\n",
            "Date:                 Tue, 22 Apr 2025   Prob (F-statistic):           3.89e-31\n",
            "Time:                         18:26:22   Log-Likelihood:                -1538.5\n",
            "No. Observations:                  949   AIC:                             3097.\n",
            "Df Residuals:                      939   BIC:                             3146.\n",
            "Df Model:                            9                                         \n",
            "Covariance Type:             nonrobust                                         \n",
            "====================================================================================\n",
            "                       coef    std err          t      P>|t|      [0.025      0.975]\n",
            "------------------------------------------------------------------------------------\n",
            "const               98.2233      7.517     13.067      0.000      83.471     112.975\n",
            "danceability        -0.0031      0.003     -0.962      0.336      -0.009       0.003\n",
            "energy              -0.0005      0.003     -0.154      0.877      -0.007       0.006\n",
            "valence             -0.0038      0.002     -1.855      0.064      -0.008       0.000\n",
            "acousticness        -0.0067      0.002     -3.407      0.001      -0.011      -0.003\n",
            "instrumentalness    -0.0012      0.005     -0.250      0.803      -0.011       0.008\n",
            "liveness            -0.0053      0.003     -1.794      0.073      -0.011       0.000\n",
            "speechiness          0.0002      0.004      0.050      0.960      -0.008       0.008\n",
            "artist_count        -0.1219      0.046     -2.636      0.009      -0.213      -0.031\n",
            "ano_lancamento      -0.0444      0.004    -11.849      0.000      -0.052      -0.037\n",
            "==============================================================================\n",
            "Omnibus:                       10.599   Durbin-Watson:                   0.852\n",
            "Prob(Omnibus):                  0.005   Jarque-Bera (JB):               11.034\n",
            "Skew:                          -0.217   Prob(JB):                      0.00402\n",
            "Kurtosis:                       3.302   Cond. No.                     3.80e+05\n",
            "==============================================================================\n",
            "\n",
            "Notes:\n",
            "[1] Standard Errors assume that the covariance matrix of the errors is correctly specified.\n",
            "[2] The condition number is large, 3.8e+05. This might indicate that there are\n",
            "strong multicollinearity or other numerical problems.\n"
          ]
        },
        {
          "output_type": "display_data",
          "data": {
            "text/plain": [
              "<Figure size 1000x600 with 1 Axes>"
            ],
            "image/png": "[encoded data removed]"
          },
          "metadata": {}
        }
      ]
    },
    {
      "cell_type": "markdown",
      "source": [
        "O modelo mostrou que fatores contextuais como **ano de lançamento** e **número de artistas** têm peso importante para explicar o número de playlists de uma música.\n",
        "\n",
        "Além disso, músicas com menor valor de `acousticness` tendem a estar em mais playlists, o que pode indicar uma preferência editorial por faixas mais produzidas, comerciais ou “menos cruas”.\n",
        "\n",
        "**Conclusão:**  \n",
        "A presença em playlists não depende apenas do som da faixa, mas também de **quando** ela foi lançada e **como ela é estruturada artisticamente**. Estratégias de lançamento e posicionamento seguem sendo determinantes para alcançar visibilidade.\n"
      ],
      "metadata": {
        "id": "liXfbYpfwvpE"
      }
    },
    {
      "cell_type": "markdown",
      "source": [
        "##Relação entre Streams x Key"
      ],
      "metadata": {
        "id": "bgzKy9Fw-T9z"
      }
    },
    {
      "cell_type": "markdown",
      "source": [
        "Nesta análise, buscamos entender se a **tonalidade musical** (`key`) tem alguma relação com o número de streams de uma música. A tonalidade é uma característica musical discreta, expressa como uma variável categórica com 12 possíveis valores (C, C#, D, D#, ..., B).\n",
        "\n",
        "Para verificar se as diferenças nas médias de streams entre essas categorias são significativas, aplicamos um **teste de ANOVA de uma via**, adequado para comparar múltiplos grupos.\n"
      ],
      "metadata": {
        "id": "o8DFXiEjbcSt"
      }
    },
    {
      "cell_type": "code",
      "source": [
        "\n",
        "\n",
        "# Verifica as tonalidades únicas\n",
        "print(\"Tonalidades disponíveis:\")\n",
        "print(data['key'].value_counts())\n",
        "\n",
        "# Calcula a média de streams por tonalidade\n",
        "media_streams_por_tonalidade = data.groupby('key')['streams'].mean().sort_values(ascending=False)\n",
        "\n",
        "# Exibe os valores numéricos\n",
        "print(\"\\nMédia de streams por tonalidade:\")\n",
        "print(media_streams_por_tonalidade)\n",
        "\n",
        "# Gera o gráfico de barras\n",
        "plt.figure(figsize=(10, 6))\n",
        "media_streams_por_tonalidade.plot(kind='bar', color='skyblue')\n",
        "plt.title('Média de Streams por Tonalidade Musical (Key)')\n",
        "plt.xlabel('Tonalidade')\n",
        "plt.ylabel('Média de Streams')\n",
        "plt.xticks(rotation=45)\n",
        "plt.grid(axis='y')\n",
        "plt.tight_layout()\n",
        "plt.show()\n"
      ],
      "metadata": {
        "colab": {
          "base_uri": "https://localhost:8080/",
          "height": 1000
        },
        "id": "wwf0jfh__Jo1",
        "outputId": "03a613e4-cf78-4ffe-a0d0-e3c6b988636c"
      },
      "execution_count": null,
      "outputs": [
        {
          "output_type": "stream",
          "name": "stdout",
          "text": [
            "Tonalidades disponíveis:\n",
            "key\n",
            "C#         119\n",
            "G           96\n",
            "Ausente     94\n",
            "G#          91\n",
            "F           89\n",
            "D           81\n",
            "B           81\n",
            "A           75\n",
            "F#          73\n",
            "E           62\n",
            "A#          55\n",
            "D#          33\n",
            "Name: count, dtype: int64\n",
            "\n",
            "Média de streams por tonalidade:\n",
            "key\n",
            "C#         6.068215e+08\n",
            "E          5.774972e+08\n",
            "A#         5.570282e+08\n",
            "D#         5.530365e+08\n",
            "D          5.295256e+08\n",
            "F#         5.223632e+08\n",
            "B          5.193480e+08\n",
            "Ausente    5.191694e+08\n",
            "G#         4.769119e+08\n",
            "F          4.684464e+08\n",
            "G          4.525994e+08\n",
            "A          4.033902e+08\n",
            "Name: streams, dtype: float64\n"
          ]
        },
        {
          "output_type": "display_data",
          "data": {
            "text/plain": [
              "<Figure size 1000x600 with 1 Axes>"
            ],
            "image/png": "[encoded data removed]"
          },
          "metadata": {}
        }
      ]
    },
    {
      "cell_type": "code",
      "source": [
        "#  Seleciona as colunas relevantes e remove valores ausentes\n",
        "df_key_streams = data[['key', 'streams']].dropna()\n",
        "\n",
        "# Cria uma lista de grupos: cada grupo contém os streams de uma tonalidade\n",
        "grupos = [grupo['streams'].values for nome, grupo in df_key_streams.groupby('key')]\n",
        "\n",
        "# Aplica o teste ANOVA\n",
        "stat, p_valor = f_oneway(*grupos)\n",
        "\n",
        "# Mostra os resultados\n",
        "print(f\"Estatística F: {stat:.3f}\")\n",
        "print(f\"p-valor: {p_valor:.5f}\")\n",
        "\n",
        "# Interpretação básica\n",
        "if p_valor < 0.05:\n",
        "    print(\" Diferença significativa entre as tonalidades.\")\n",
        "else:\n",
        "    print(\" Nenhuma diferença estatística significativa entre as tonalidades.\")\n"
      ],
      "metadata": {
        "colab": {
          "base_uri": "https://localhost:8080/"
        },
        "id": "t5s_AUOW_4lG",
        "outputId": "00864b78-a0c7-4dfe-868e-faa288e1050b"
      },
      "execution_count": null,
      "outputs": [
        {
          "output_type": "stream",
          "name": "stdout",
          "text": [
            "Estatística F: 0.858\n",
            "p-valor: 0.58203\n",
            " Nenhuma diferença estatística significativa entre as tonalidades.\n"
          ]
        }
      ]
    },
    {
      "cell_type": "markdown",
      "source": [
        "Apesar de algumas tonalidades parecerem ter mais streams do que outras visualmente, o teste estatístico mostra que essas diferenças **não são significativas** do ponto de vista estatístico.\n",
        "\n",
        "Isso indica que a **tonalidade da música não influencia o número de streams** de forma relevante — pelo menos não de maneira isolada e consistente.\n",
        "\n",
        "**Conclusão:**  \n",
        "A hipótese foi refutada. A tonalidade musical (`key`) não tem impacto estatisticamente significativo no sucesso de uma faixa.\n"
      ],
      "metadata": {
        "id": "fBTrqAZwACW4"
      }
    }
  ]
}